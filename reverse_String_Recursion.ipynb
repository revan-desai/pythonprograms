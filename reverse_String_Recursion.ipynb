{
  "nbformat": 4,
  "nbformat_minor": 0,
  "metadata": {
    "colab": {
      "provenance": [],
      "authorship_tag": "ABX9TyMVJTpksqI8uJiar+zUeSl6",
      "include_colab_link": true
    },
    "kernelspec": {
      "name": "python3",
      "display_name": "Python 3"
    },
    "language_info": {
      "name": "python"
    }
  },
  "cells": [
    {
      "cell_type": "markdown",
      "metadata": {
        "id": "view-in-github",
        "colab_type": "text"
      },
      "source": [
        "<a href=\"https://colab.research.google.com/github/revan-desai/pythonprograms/blob/main/reverse_String_Recursion.ipynb\" target=\"_parent\"><img src=\"https://colab.research.google.com/assets/colab-badge.svg\" alt=\"Open In Colab\"/></a>"
      ]
    },
    {
      "cell_type": "code",
      "execution_count": null,
      "metadata": {
        "colab": {
          "base_uri": "https://localhost:8080/"
        },
        "id": "IhOWJn8fexaH",
        "outputId": "e4880687-ab42-4606-caf1-ed94bea1e49e"
      },
      "outputs": [
        {
          "output_type": "stream",
          "name": "stdout",
          "text": [
            "krapsyp"
          ]
        }
      ],
      "source": [
        "def recursive(a,i):\n",
        "  if i==len(a):\n",
        "    return\n",
        "  recursive(a,i+1)\n",
        "  print(a[i],end=\"\")\n",
        "\n",
        "\n",
        "recursive(\"pyspark\",0)\n"
      ]
    },
    {
      "cell_type": "code",
      "source": [
        "def rev(n):\n",
        "     print(n%10,end=\"\") #1\n",
        "     if n>10:\n",
        "      rev(n//10)\n",
        "\n",
        "rev(54321)\n"
      ],
      "metadata": {
        "colab": {
          "base_uri": "https://localhost:8080/"
        },
        "id": "sP2YRfFkkDt-",
        "outputId": "caf2fafe-bb61-4ebe-d076-d00c1f486d23"
      },
      "execution_count": null,
      "outputs": [
        {
          "output_type": "stream",
          "name": "stdout",
          "text": [
            "12345"
          ]
        }
      ]
    }
  ]
}