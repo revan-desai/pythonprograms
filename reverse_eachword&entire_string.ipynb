{
  "nbformat": 4,
  "nbformat_minor": 0,
  "metadata": {
    "colab": {
      "provenance": [],
      "authorship_tag": "ABX9TyN1iu7PYFzoHd/BiHG9NLU9",
      "include_colab_link": true
    },
    "kernelspec": {
      "name": "python3",
      "display_name": "Python 3"
    },
    "language_info": {
      "name": "python"
    }
  },
  "cells": [
    {
      "cell_type": "markdown",
      "metadata": {
        "id": "view-in-github",
        "colab_type": "text"
      },
      "source": [
        "<a href=\"https://colab.research.google.com/github/revan-desai/pythonprograms/blob/main/reverse_eachword%26entire_string.ipynb\" target=\"_parent\"><img src=\"https://colab.research.google.com/assets/colab-badge.svg\" alt=\"Open In Colab\"/></a>"
      ]
    },
    {
      "cell_type": "code",
      "execution_count": null,
      "metadata": {
        "id": "M8bokvdUR3H6"
      },
      "outputs": [],
      "source": [
        "c=\"python is very easy\"\n",
        "f=c.split()\n",
        "n=len(f)-1\n",
        "rev=\"\"\n",
        "for i in f:\n",
        "   rev=i[::-1]+\" \"+rev\n",
        "   n-=1\n",
        "print(rev)\n"
      ]
    }
  ]
}