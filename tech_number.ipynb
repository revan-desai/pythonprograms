{
  "nbformat": 4,
  "nbformat_minor": 0,
  "metadata": {
    "colab": {
      "provenance": [],
      "authorship_tag": "ABX9TyP1e1kzKZMAuJ9Uer/2UfTT",
      "include_colab_link": true
    },
    "kernelspec": {
      "name": "python3",
      "display_name": "Python 3"
    },
    "language_info": {
      "name": "python"
    }
  },
  "cells": [
    {
      "cell_type": "markdown",
      "metadata": {
        "id": "view-in-github",
        "colab_type": "text"
      },
      "source": [
        "<a href=\"https://colab.research.google.com/github/revan-desai/pythonprograms/blob/main/tech_number.ipynb\" target=\"_parent\"><img src=\"https://colab.research.google.com/assets/colab-badge.svg\" alt=\"Open In Colab\"/></a>"
      ]
    },
    {
      "cell_type": "code",
      "execution_count": 1,
      "metadata": {
        "colab": {
          "base_uri": "https://localhost:8080/"
        },
        "id": "_1lJPskE2Ppp",
        "outputId": "1e452365-fed3-43e5-be2a-c66eea839012"
      },
      "outputs": [
        {
          "output_type": "stream",
          "name": "stdout",
          "text": [
            "2025\n",
            "tech number\n"
          ]
        }
      ],
      "source": [
        "num=int(input())\n",
        "num1=str(num)\n",
        "for i in range(len(num1)):\n",
        "  if len(num1)%2==0:\n",
        "   res1=int(num1[:len(num1)//2])\n",
        "   res2=int(num1[len(num1)//2:len(num1)])\n",
        "   res3=(res1+res2)**2\n",
        "if res3==num:\n",
        "    print('tech number')"
      ]
    }
  ]
}