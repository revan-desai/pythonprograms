{
  "nbformat": 4,
  "nbformat_minor": 0,
  "metadata": {
    "colab": {
      "provenance": [],
      "authorship_tag": "ABX9TyML5IWpMns17Wf7Xq/QW6ef",
      "include_colab_link": true
    },
    "kernelspec": {
      "name": "python3",
      "display_name": "Python 3"
    },
    "language_info": {
      "name": "python"
    }
  },
  "cells": [
    {
      "cell_type": "markdown",
      "metadata": {
        "id": "view-in-github",
        "colab_type": "text"
      },
      "source": [
        "<a href=\"https://colab.research.google.com/github/revan-desai/pythonprograms/blob/main/kwargs_%26even_at_even_position.ipynb\" target=\"_parent\"><img src=\"https://colab.research.google.com/assets/colab-badge.svg\" alt=\"Open In Colab\"/></a>"
      ]
    },
    {
      "cell_type": "code",
      "source": [
        "def order_pizza(size,**kwargs):\n",
        "  print(type(size))\n",
        "  print(type(kwargs))\n",
        "  print(f\"order a {size}-pizza with following topings\")\n",
        "  for amount,topping in kwargs.items():\n",
        "    print(f\"{amount}-{topping}\")\n",
        "\n",
        "order_pizza(12,pepperoni=1,mushroom=2)"
      ],
      "metadata": {
        "colab": {
          "base_uri": "https://localhost:8080/"
        },
        "id": "NeR7utqYaXHY",
        "outputId": "f500f469-4626-49bd-ff95-395926a3299e"
      },
      "execution_count": 48,
      "outputs": [
        {
          "output_type": "stream",
          "name": "stdout",
          "text": [
            "<class 'int'>\n",
            "<class 'dict'>\n",
            "order a 12-pizza with following topings\n",
            "pepperoni-1\n",
            "mushroom-2\n"
          ]
        }
      ]
    },
    {
      "cell_type": "code",
      "source": [
        "list1=[8,6,9,3,8,0,1,4,6,4]\n",
        "\n",
        "tuple(filter(lambda x:x%2==0,list1[::2]))\n",
        "\n",
        "tuple([num for i,num in enumerate(list1) if i%2==0 and num%2==0])"
      ],
      "metadata": {
        "colab": {
          "base_uri": "https://localhost:8080/"
        },
        "id": "_GAMbNgMk8-k",
        "outputId": "6f701bf9-64dd-4870-92ef-2f78d086f1e5"
      },
      "execution_count": 51,
      "outputs": [
        {
          "output_type": "execute_result",
          "data": {
            "text/plain": [
              "(8, 8, 6)"
            ]
          },
          "metadata": {},
          "execution_count": 51
        }
      ]
    },
    {
      "cell_type": "code",
      "source": [
        "from functools import reduce\n",
        "reduce(lambda x,y:x+y,list1)"
      ],
      "metadata": {
        "colab": {
          "base_uri": "https://localhost:8080/"
        },
        "id": "OhEHv3k7nxP8",
        "outputId": "a45b2092-cd5a-4ffb-de6f-53688b502674"
      },
      "execution_count": 50,
      "outputs": [
        {
          "output_type": "execute_result",
          "data": {
            "text/plain": [
              "49"
            ]
          },
          "metadata": {},
          "execution_count": 50
        }
      ]
    }
  ]
}