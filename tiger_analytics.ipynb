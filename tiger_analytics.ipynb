{
  "nbformat": 4,
  "nbformat_minor": 0,
  "metadata": {
    "colab": {
      "provenance": [],
      "authorship_tag": "ABX9TyP+vVldPPZ3rTLmPcnqZx3O",
      "include_colab_link": true
    },
    "kernelspec": {
      "name": "python3",
      "display_name": "Python 3"
    },
    "language_info": {
      "name": "python"
    }
  },
  "cells": [
    {
      "cell_type": "markdown",
      "metadata": {
        "id": "view-in-github",
        "colab_type": "text"
      },
      "source": [
        "<a href=\"https://colab.research.google.com/github/revan-desai/pythonprograms/blob/main/tiger_analytics.ipynb\" target=\"_parent\"><img src=\"https://colab.research.google.com/assets/colab-badge.svg\" alt=\"Open In Colab\"/></a>"
      ]
    },
    {
      "cell_type": "code",
      "execution_count": 26,
      "metadata": {
        "colab": {
          "base_uri": "https://localhost:8080/"
        },
        "id": "fUixcu5dIvIL",
        "outputId": "57314da5-9dfd-4125-93f3-08d4d4334a01"
      },
      "outputs": [
        {
          "output_type": "stream",
          "name": "stdout",
          "text": [
            "{'Item1': 5, 'Item4': 80, 'Item2': 0, 'Item3': 40}\n"
          ]
        }
      ],
      "source": [
        "transaction_log = \"\"\"\n",
        "Item1   10\n",
        "Item4   20\n",
        "Item2 \t  1\n",
        "Item1         -5\n",
        "Item3     40\n",
        "Item2    -1\n",
        "Item4     60\n",
        "\"\"\"\n",
        "\n",
        "r=transaction_log.split('\\n')\n",
        "d={}\n",
        "for i in r:\n",
        "  if i==\"\":\n",
        "    pass\n",
        "  else:\n",
        "    r=i.rstrip()\n",
        "    item_id,qty = r.split()\n",
        "    if item_id in d:\n",
        "       d[item_id]+=int(qty)\n",
        "    else:\n",
        "      d[item_id]=int(qty)\n",
        "\n",
        "print(d)"
      ]
    }
  ]
}