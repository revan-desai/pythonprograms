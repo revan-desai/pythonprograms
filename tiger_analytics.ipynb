{
  "nbformat": 4,
  "nbformat_minor": 0,
  "metadata": {
    "colab": {
      "provenance": [],
      "authorship_tag": "ABX9TyOw2DDENh3WSIJkw5Lho1ie",
      "include_colab_link": true
    },
    "kernelspec": {
      "name": "python3",
      "display_name": "Python 3"
    },
    "language_info": {
      "name": "python"
    }
  },
  "cells": [
    {
      "cell_type": "markdown",
      "metadata": {
        "id": "view-in-github",
        "colab_type": "text"
      },
      "source": [
        "<a href=\"https://colab.research.google.com/github/revan-desai/pythonprograms/blob/main/tiger_analytics.ipynb\" target=\"_parent\"><img src=\"https://colab.research.google.com/assets/colab-badge.svg\" alt=\"Open In Colab\"/></a>"
      ]
    },
    {
      "cell_type": "code",
      "execution_count": 36,
      "metadata": {
        "id": "8AStwqH0-bxR"
      },
      "outputs": [],
      "source": [
        "transaction_log = \"\"\"\n",
        "Item1   10\n",
        "Item4   20\n",
        "Item2 \t  1\n",
        "Item1         -5\n",
        "Item3     40\n",
        "Item2    -1\n",
        "Item4     60\n",
        "\"\"\"\n"
      ]
    },
    {
      "cell_type": "code",
      "source": [
        "d={}\n",
        "r=transaction_log.split('\\n')\n",
        "for i in r:\n",
        "  if i!='':\n",
        "   item_id,qty=i.split()\n",
        "   if item_id in d:\n",
        "    d[item_id]=d[item_id]+int(qty)\n",
        "   else:\n",
        "     d[item_id]=int(qty)\n",
        "\n",
        "d\n",
        "\n"
      ],
      "metadata": {
        "colab": {
          "base_uri": "https://localhost:8080/"
        },
        "id": "XoWqeyyf-c7v",
        "outputId": "f4f33129-0326-4f82-ff8c-7af7df4c59b5"
      },
      "execution_count": 39,
      "outputs": [
        {
          "output_type": "execute_result",
          "data": {
            "text/plain": [
              "{'Item1': 5, 'Item4': 80, 'Item2': 0, 'Item3': 40}"
            ]
          },
          "metadata": {},
          "execution_count": 39
        }
      ]
    }
  ]
}