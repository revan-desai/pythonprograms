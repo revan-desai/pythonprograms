{
  "nbformat": 4,
  "nbformat_minor": 0,
  "metadata": {
    "colab": {
      "provenance": [],
      "authorship_tag": "ABX9TyMm1uvV6omsl01R6JqWHVJO",
      "include_colab_link": true
    },
    "kernelspec": {
      "name": "python3",
      "display_name": "Python 3"
    },
    "language_info": {
      "name": "python"
    }
  },
  "cells": [
    {
      "cell_type": "markdown",
      "metadata": {
        "id": "view-in-github",
        "colab_type": "text"
      },
      "source": [
        "<a href=\"https://colab.research.google.com/github/revan-desai/pythonbasics/blob/main/aaaabbbccddea.ipynb\" target=\"_parent\"><img src=\"https://colab.research.google.com/assets/colab-badge.svg\" alt=\"Open In Colab\"/></a>"
      ]
    },
    {
      "cell_type": "code",
      "execution_count": 19,
      "metadata": {
        "colab": {
          "base_uri": "https://localhost:8080/"
        },
        "id": "HqydVY5TL-Yp",
        "outputId": "fa7fccc7-6d60-4bc0-85af-6bae59ba1b52"
      },
      "outputs": [
        {
          "output_type": "stream",
          "name": "stdout",
          "text": [
            "a4b3c2d2e1a1\n"
          ]
        }
      ],
      "source": [
        "a=\"aaaabbbccddea\"\n",
        "result=\"\"\n",
        "count=0\n",
        "for i in range (len(a)):\n",
        "  if i==0:\n",
        "    result=result+a[i]\n",
        "    count=count+1\n",
        "  if i!=0 and a[i]==a[i-1]:\n",
        "     count=count+1\n",
        "  if i!=0 and a[i]!=a[i-1]:\n",
        "        result=result+str(count)+a[i]\n",
        "\n",
        "        count=1\n",
        "  if i==len(a)-1:\n",
        "         result=result+str(count)\n",
        "\n",
        "\n",
        "print(result)\n",
        "\n",
        "\n"
      ]
    }
  ]
}