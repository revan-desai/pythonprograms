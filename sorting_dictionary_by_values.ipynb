{
  "nbformat": 4,
  "nbformat_minor": 0,
  "metadata": {
    "colab": {
      "provenance": [],
      "authorship_tag": "ABX9TyPxzmOEVqOD1JSnDSlyFOxq",
      "include_colab_link": true
    },
    "kernelspec": {
      "name": "python3",
      "display_name": "Python 3"
    },
    "language_info": {
      "name": "python"
    }
  },
  "cells": [
    {
      "cell_type": "markdown",
      "metadata": {
        "id": "view-in-github",
        "colab_type": "text"
      },
      "source": [
        "<a href=\"https://colab.research.google.com/github/revan-desai/pythonprograms/blob/main/sorting_dictionary_by_values.ipynb\" target=\"_parent\"><img src=\"https://colab.research.google.com/assets/colab-badge.svg\" alt=\"Open In Colab\"/></a>"
      ]
    },
    {
      "cell_type": "code",
      "source": [
        "scores = {\n",
        "    \"John\": 85,\n",
        "    \"Alice\": 90,\n",
        "    \"Bob\": 75,\n",
        "    \"Emily\": 95,\n",
        "    \"David\": 80\n",
        "}\n",
        "\n",
        "dict(sorted(scores.items(),key=lambda x:x[1]))"
      ],
      "metadata": {
        "colab": {
          "base_uri": "https://localhost:8080/"
        },
        "id": "kLvflMVrQyqL",
        "outputId": "f5674e0e-8c06-47a5-e5d6-7204c181b44e"
      },
      "execution_count": 14,
      "outputs": [
        {
          "output_type": "execute_result",
          "data": {
            "text/plain": [
              "{'Bob': 75, 'David': 80, 'John': 85, 'Alice': 90, 'Emily': 95}"
            ]
          },
          "metadata": {},
          "execution_count": 14
        }
      ]
    }
  ]
}