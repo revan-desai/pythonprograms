{
  "nbformat": 4,
  "nbformat_minor": 0,
  "metadata": {
    "colab": {
      "provenance": [],
      "authorship_tag": "ABX9TyOyjdcMY9vm/dYeKcRapnLg",
      "include_colab_link": true
    },
    "kernelspec": {
      "name": "python3",
      "display_name": "Python 3"
    },
    "language_info": {
      "name": "python"
    }
  },
  "cells": [
    {
      "cell_type": "markdown",
      "metadata": {
        "id": "view-in-github",
        "colab_type": "text"
      },
      "source": [
        "<a href=\"https://colab.research.google.com/github/revan-desai/pythonprograms/blob/main/list_ascending_bubble_sort.ipynb\" target=\"_parent\"><img src=\"https://colab.research.google.com/assets/colab-badge.svg\" alt=\"Open In Colab\"/></a>"
      ]
    },
    {
      "cell_type": "code",
      "execution_count": 8,
      "metadata": {
        "colab": {
          "base_uri": "https://localhost:8080/"
        },
        "id": "jI2JWQkwyybp",
        "outputId": "71189842-cce4-4de9-eb23-c955a38cf7d6"
      },
      "outputs": [
        {
          "output_type": "stream",
          "name": "stdout",
          "text": [
            "[1, 3, 5, 6, 7, 8, 8, 8, 8, 9]\n"
          ]
        }
      ],
      "source": [
        "def bubble_sort(element):\n",
        "  n = len(element)\n",
        "  for i in range(n-1):\n",
        "    for j in range(n-i-1):\n",
        "      if element[j]>element[j+1]:\n",
        "        element[j],element[j+1]=element[j+1],element[j]\n",
        "\n",
        "\n",
        "\n",
        "list=[1,3,5,6,7,8,9,8,8,8]\n",
        "bubble_sort(list)\n",
        "\n",
        "print(list)\n",
        "\n",
        "\n",
        "\n"
      ]
    },
    {
      "cell_type": "code",
      "source": [],
      "metadata": {
        "id": "eKgI8TVDy0ru"
      },
      "execution_count": null,
      "outputs": []
    }
  ]
}