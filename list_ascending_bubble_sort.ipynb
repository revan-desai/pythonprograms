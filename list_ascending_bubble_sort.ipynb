{
  "nbformat": 4,
  "nbformat_minor": 0,
  "metadata": {
    "colab": {
      "provenance": [],
      "authorship_tag": "ABX9TyPiWgCFn7BrH/tUQnD+v7iu",
      "include_colab_link": true
    },
    "kernelspec": {
      "name": "python3",
      "display_name": "Python 3"
    },
    "language_info": {
      "name": "python"
    }
  },
  "cells": [
    {
      "cell_type": "markdown",
      "metadata": {
        "id": "view-in-github",
        "colab_type": "text"
      },
      "source": [
        "<a href=\"https://colab.research.google.com/github/revan-desai/pythonprograms/blob/main/list_ascending_bubble_sort.ipynb\" target=\"_parent\"><img src=\"https://colab.research.google.com/assets/colab-badge.svg\" alt=\"Open In Colab\"/></a>"
      ]
    },
    {
      "cell_type": "code",
      "execution_count": 21,
      "metadata": {
        "colab": {
          "base_uri": "https://localhost:8080/"
        },
        "id": "jI2JWQkwyybp",
        "outputId": "bd98f0ad-3e72-4d56-8573-a7fd0c7b9a60"
      },
      "outputs": [
        {
          "output_type": "stream",
          "name": "stdout",
          "text": [
            "[3, 5, 6, 7, 8, 8, 8, 8, 9, 99]\n"
          ]
        }
      ],
      "source": [
        "def bubble_sort(element):\n",
        "  n = len(element)\n",
        "  for i in range(n-1):\n",
        "    for j in range(n-i-1):\n",
        "      if element[j]>element[j+1]:\n",
        "        element[j],element[j+1]=element[j+1],element[j]\n",
        "\n",
        "\n",
        "\n",
        "\n",
        "\n",
        "list=[99,3,5,6,7,8,9,8,8,8]\n",
        "bubble_sort(list)\n",
        "\n",
        "print(list)\n",
        "\n",
        "\n",
        "\n"
      ]
    },
    {
      "cell_type": "code",
      "source": [],
      "metadata": {
        "id": "eKgI8TVDy0ru"
      },
      "execution_count": null,
      "outputs": []
    }
  ]
}