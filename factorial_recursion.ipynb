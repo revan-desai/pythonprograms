{
  "nbformat": 4,
  "nbformat_minor": 0,
  "metadata": {
    "colab": {
      "provenance": [],
      "authorship_tag": "ABX9TyN4Fg1kxCJzZa/8ECRRSa1f",
      "include_colab_link": true
    },
    "kernelspec": {
      "name": "python3",
      "display_name": "Python 3"
    },
    "language_info": {
      "name": "python"
    }
  },
  "cells": [
    {
      "cell_type": "markdown",
      "metadata": {
        "id": "view-in-github",
        "colab_type": "text"
      },
      "source": [
        "<a href=\"https://colab.research.google.com/github/revan-desai/pythonprograms/blob/main/factorial_recursion.ipynb\" target=\"_parent\"><img src=\"https://colab.research.google.com/assets/colab-badge.svg\" alt=\"Open In Colab\"/></a>"
      ]
    },
    {
      "cell_type": "code",
      "execution_count": 4,
      "metadata": {
        "id": "cx128-0ctMDq",
        "colab": {
          "base_uri": "https://localhost:8080/"
        },
        "outputId": "eb33848e-e816-49bb-c7f3-1385fe86b496"
      },
      "outputs": [
        {
          "output_type": "stream",
          "name": "stdout",
          "text": [
            "in\n",
            "in\n",
            "in\n",
            "in0\n",
            "6\n"
          ]
        }
      ],
      "source": [
        "def facto(n):\n",
        "  if n==0:\n",
        "    print(\"in0\")\n",
        "    result=1\n",
        "    return result\n",
        "  else:\n",
        "    print(\"in\")\n",
        "    result=n*facto(n-1)     #3*2*1\n",
        "    return result\n",
        "\n",
        "d=facto(3)\n",
        "print(d)"
      ]
    },
    {
      "cell_type": "code",
      "source": [
        "def facto(n):\n",
        "  if n==0:\n",
        "    print(\"in0\")\n",
        "    return 1\n",
        "  else:\n",
        "    print(\"in\")\n",
        "    return n*facto(n-1)\n",
        "\n",
        "\n",
        "facto(5)"
      ],
      "metadata": {
        "id": "YFIOalEvy2IL",
        "colab": {
          "base_uri": "https://localhost:8080/"
        },
        "outputId": "196c3dd5-65b2-4d6f-82cb-e7d1490e312e"
      },
      "execution_count": 1,
      "outputs": [
        {
          "output_type": "stream",
          "name": "stdout",
          "text": [
            "in\n",
            "in\n",
            "in\n",
            "in\n",
            "in\n",
            "in0\n"
          ]
        },
        {
          "output_type": "execute_result",
          "data": {
            "text/plain": [
              "120"
            ]
          },
          "metadata": {},
          "execution_count": 1
        }
      ]
    }
  ]
}