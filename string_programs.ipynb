{
  "nbformat": 4,
  "nbformat_minor": 0,
  "metadata": {
    "colab": {
      "provenance": [],
      "authorship_tag": "ABX9TyOLKATt+wzTPu7JGTcOJHmv",
      "include_colab_link": true
    },
    "kernelspec": {
      "name": "python3",
      "display_name": "Python 3"
    },
    "language_info": {
      "name": "python"
    }
  },
  "cells": [
    {
      "cell_type": "markdown",
      "metadata": {
        "id": "view-in-github",
        "colab_type": "text"
      },
      "source": [
        "<a href=\"https://colab.research.google.com/github/revan-desai/pythonprograms/blob/main/string_programs.ipynb\" target=\"_parent\"><img src=\"https://colab.research.google.com/assets/colab-badge.svg\" alt=\"Open In Colab\"/></a>"
      ]
    },
    {
      "cell_type": "code",
      "execution_count": 24,
      "metadata": {
        "colab": {
          "base_uri": "https://localhost:8080/"
        },
        "id": "UPhybZkWhxFy",
        "outputId": "f2a5bbce-15df-4836-dfa1-4c63a1d4247a"
      },
      "outputs": [
        {
          "output_type": "stream",
          "name": "stdout",
          "text": [
            "sdfghjkl;'\n",
            "letters are 8,numbers are 0,special characters are 2,spaces are 0\n"
          ]
        }
      ],
      "source": [
        "s=input()\n",
        "letters=0\n",
        "num=0\n",
        "sp_char=0\n",
        "space=0\n",
        "for i in s:\n",
        "  if i.isalpha():\n",
        "    letters+=1\n",
        "  elif i.isnumeric():\n",
        "    num+=1\n",
        "  elif i.isspace():\n",
        "    space+=1\n",
        "  else:\n",
        "   sp_char+=1\n",
        "\n",
        "print(f'letters are {letters}, numbers are {num} , special characters are {sp_char}, spaces are {space}')"
      ]
    },
    {
      "cell_type": "code",
      "source": [],
      "metadata": {
        "id": "ZWrrwQGWruRq"
      },
      "execution_count": null,
      "outputs": []
    },
    {
      "cell_type": "code",
      "source": [
        "s='H1e2l3l4o 5w6o7r8l9d'\n",
        "res=''\n",
        "\n",
        "for i in s:\n",
        "  if i.isalpha():\n",
        "    res=res+i\n",
        "\n",
        "res"
      ],
      "metadata": {
        "colab": {
          "base_uri": "https://localhost:8080/",
          "height": 36
        },
        "id": "M0NPxwxUjt_D",
        "outputId": "45c5483e-ac0e-4227-92a7-2148e0f03c16"
      },
      "execution_count": 26,
      "outputs": [
        {
          "output_type": "execute_result",
          "data": {
            "text/plain": [
              "'Helloworld'"
            ],
            "application/vnd.google.colaboratory.intrinsic+json": {
              "type": "string"
            }
          },
          "metadata": {},
          "execution_count": 26
        }
      ]
    }
  ]
}