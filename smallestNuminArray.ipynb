{
  "nbformat": 4,
  "nbformat_minor": 0,
  "metadata": {
    "colab": {
      "provenance": [],
      "authorship_tag": "ABX9TyMHDX1/NANGiwJ5SztT6vil",
      "include_colab_link": true
    },
    "kernelspec": {
      "name": "python3",
      "display_name": "Python 3"
    },
    "language_info": {
      "name": "python"
    }
  },
  "cells": [
    {
      "cell_type": "markdown",
      "metadata": {
        "id": "view-in-github",
        "colab_type": "text"
      },
      "source": [
        "<a href=\"https://colab.research.google.com/github/revan-desai/pythonprograms/blob/main/smallestNuminArray.ipynb\" target=\"_parent\"><img src=\"https://colab.research.google.com/assets/colab-badge.svg\" alt=\"Open In Colab\"/></a>"
      ]
    },
    {
      "cell_type": "code",
      "execution_count": 3,
      "metadata": {
        "colab": {
          "base_uri": "https://localhost:8080/"
        },
        "id": "qG-iYUxfZPMB",
        "outputId": "4c081885-1a40-4d5b-d073-74dddc498d52"
      },
      "outputs": [
        {
          "output_type": "stream",
          "name": "stdout",
          "text": [
            "9223372036854775807\n",
            "4\n"
          ]
        }
      ],
      "source": [
        "import sys\n",
        "a=[58,23,123,4,87,96,12,47]\n",
        "m=sys.maxsize\n",
        "print(m)\n",
        "for i in range(len(a)):\n",
        "   if a[i]<m:\n",
        "    m=a[i]\n",
        "print(m)"
      ]
    },
    {
      "cell_type": "markdown",
      "source": [
        "###smallest number In array using for loop"
      ],
      "metadata": {
        "id": "y6MA0ziWcy0_"
      }
    },
    {
      "cell_type": "code",
      "source": [
        "a=[58,23,123,4,87,96,12,47]\n",
        "a.sort()\n",
        "print(a[0])"
      ],
      "metadata": {
        "colab": {
          "base_uri": "https://localhost:8080/"
        },
        "id": "X2NwrHSYb6el",
        "outputId": "6eec66b8-d2bb-4d4f-99cf-aedeb8ed61dd"
      },
      "execution_count": null,
      "outputs": [
        {
          "output_type": "stream",
          "name": "stdout",
          "text": [
            "4\n"
          ]
        }
      ]
    },
    {
      "cell_type": "markdown",
      "source": [
        "###smallest number using sort\n"
      ],
      "metadata": {
        "id": "nEqYHSWJdJ37"
      }
    }
  ]
}