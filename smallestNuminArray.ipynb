{
  "nbformat": 4,
  "nbformat_minor": 0,
  "metadata": {
    "colab": {
      "provenance": [],
      "authorship_tag": "ABX9TyPI5otxVgSzh7Py1dlB5TU2",
      "include_colab_link": true
    },
    "kernelspec": {
      "name": "python3",
      "display_name": "Python 3"
    },
    "language_info": {
      "name": "python"
    }
  },
  "cells": [
    {
      "cell_type": "markdown",
      "metadata": {
        "id": "view-in-github",
        "colab_type": "text"
      },
      "source": [
        "<a href=\"https://colab.research.google.com/github/revan-desai/pythonbasics/blob/main/smallestNuminArray.ipynb\" target=\"_parent\"><img src=\"https://colab.research.google.com/assets/colab-badge.svg\" alt=\"Open In Colab\"/></a>"
      ]
    },
    {
      "cell_type": "code",
      "execution_count": null,
      "metadata": {
        "colab": {
          "base_uri": "https://localhost:8080/"
        },
        "id": "qG-iYUxfZPMB",
        "outputId": "ceecc90a-f96e-4dd9-c6a3-b128ebac48be"
      },
      "outputs": [
        {
          "output_type": "stream",
          "name": "stdout",
          "text": [
            "4\n"
          ]
        }
      ],
      "source": [
        "import sys\n",
        "a=[58,23,123,4,87,96,12,47]\n",
        "min=sys.maxsize\n",
        "for i in range(len(a)):\n",
        "   if a[i]<min:\n",
        "    min=a[i]\n",
        "print(min)"
      ]
    },
    {
      "cell_type": "markdown",
      "source": [
        "###smallest number In array using for loop"
      ],
      "metadata": {
        "id": "y6MA0ziWcy0_"
      }
    },
    {
      "cell_type": "code",
      "source": [
        "a=[58,23,123,4,87,96,12,47]\n",
        "a.sort()\n",
        "print(a[0])"
      ],
      "metadata": {
        "colab": {
          "base_uri": "https://localhost:8080/"
        },
        "id": "X2NwrHSYb6el",
        "outputId": "6eec66b8-d2bb-4d4f-99cf-aedeb8ed61dd"
      },
      "execution_count": null,
      "outputs": [
        {
          "output_type": "stream",
          "name": "stdout",
          "text": [
            "4\n"
          ]
        }
      ]
    },
    {
      "cell_type": "markdown",
      "source": [
        "###smallest number using sort\n"
      ],
      "metadata": {
        "id": "nEqYHSWJdJ37"
      }
    }
  ]
}