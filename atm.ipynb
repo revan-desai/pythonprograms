{
  "nbformat": 4,
  "nbformat_minor": 0,
  "metadata": {
    "colab": {
      "provenance": [],
      "authorship_tag": "ABX9TyOOvPEPj99gwIM6cJBjYf1r",
      "include_colab_link": true
    },
    "kernelspec": {
      "name": "python3",
      "display_name": "Python 3"
    },
    "language_info": {
      "name": "python"
    }
  },
  "cells": [
    {
      "cell_type": "markdown",
      "metadata": {
        "id": "view-in-github",
        "colab_type": "text"
      },
      "source": [
        "<a href=\"https://colab.research.google.com/github/revan-desai/pythonprograms/blob/main/atm.ipynb\" target=\"_parent\"><img src=\"https://colab.research.google.com/assets/colab-badge.svg\" alt=\"Open In Colab\"/></a>"
      ]
    },
    {
      "cell_type": "code",
      "source": [
        "import datetime\n",
        "import pytz\n",
        "print('Welcome',datetime.datetime.now(pytz.timezone('Asia/Kolkata')))\n",
        "\n",
        "print('Enter 1 for amount withdrawal')\n",
        "\n",
        "print('Enter 2  to update mobile number')\n",
        "\n",
        "a=int(input())\n",
        "\n",
        "if a==1:\n",
        "  balance=20620\n",
        "  entered_amount=eval(input(\"enter a amount:\"))\n",
        "\n",
        "  if (entered_amount%500==0 or entered_amount%200==0 or entered_amount%100==0) :\n",
        "    if entered_amount<balance:\n",
        "      print('please collect your cash')\n",
        "    else:\n",
        "      print('insuffucient balance')\n",
        "  else:\n",
        "    print('please enter amount multiple of 100,200,500')\n",
        "elif a==2:\n",
        "  import random\n",
        "  enter_mobile=eval(input('enter 10 digit mobile number:'))\n",
        "\n",
        "  if len(str(enter_mobile))==10:\n",
        "      b=random.randrange(1000,9999)\n",
        "      print(b)\n",
        "      userotp=eval(input('enter otp received on your number:'))\n",
        "\n",
        "      if str(userotp)==str(b):\n",
        "       print('great your new mobile number is ',enter_mobile)\n",
        "      else:\n",
        "        print('enter valid otp')\n",
        "  else:\n",
        "    print('please enter valid mobile number')\n",
        "else:\n",
        "  print('please enter valid option')\n"
      ],
      "metadata": {
        "colab": {
          "base_uri": "https://localhost:8080/"
        },
        "id": "_xSypp8RVmRo",
        "outputId": "9765523e-13ad-4584-8d7c-ecf363d7c7dd"
      },
      "execution_count": 64,
      "outputs": [
        {
          "output_type": "stream",
          "name": "stdout",
          "text": [
            "Welcome 2023-07-13 23:50:21.170535+05:30\n",
            "Enter 1 for amount withdrawal\n",
            "Enter 2  to update mobile number\n",
            "2\n",
            "enter 10 digit mobile number:8108121127\n",
            "6084\n",
            "enter otp received on your number:6085\n",
            "enter valid otp\n"
          ]
        }
      ]
    }
  ]
}