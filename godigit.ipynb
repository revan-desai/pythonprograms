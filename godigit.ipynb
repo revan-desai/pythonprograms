{
  "nbformat": 4,
  "nbformat_minor": 0,
  "metadata": {
    "colab": {
      "provenance": [],
      "authorship_tag": "ABX9TyP1FicmuiFAMUCP4FBj7y9s",
      "include_colab_link": true
    },
    "kernelspec": {
      "name": "python3",
      "display_name": "Python 3"
    },
    "language_info": {
      "name": "python"
    }
  },
  "cells": [
    {
      "cell_type": "markdown",
      "metadata": {
        "id": "view-in-github",
        "colab_type": "text"
      },
      "source": [
        "<a href=\"https://colab.research.google.com/github/revan-desai/pythonprograms/blob/main/godigit.ipynb\" target=\"_parent\"><img src=\"https://colab.research.google.com/assets/colab-badge.svg\" alt=\"Open In Colab\"/></a>"
      ]
    },
    {
      "cell_type": "code",
      "execution_count": 1,
      "metadata": {
        "colab": {
          "base_uri": "https://localhost:8080/"
        },
        "id": "Mu93RlRlyNjg",
        "outputId": "c7340bee-762c-4e1a-d045-71e7eacda851"
      },
      "outputs": [
        {
          "output_type": "stream",
          "name": "stdout",
          "text": [
            "True\n"
          ]
        }
      ],
      "source": [
        "import re\n",
        "def matchwords(s,list2,list3):\n",
        "    count=0\n",
        "    words = re.findall('[A-Z][a-z]*', s)\n",
        "    for i,j in zip(words,list3):\n",
        "        if i==j:\n",
        "            count+=1\n",
        "    if count==2:\n",
        "        print(True)\n",
        "    else:\n",
        "        print(False)\n",
        "\n",
        "list2 = [ \"Development\", \"Software\", \"Innovation\", \"Research\" ]\n",
        "list3=[\"Software\", \"Development\",\"Innovation\", \"Research\"]\n",
        "s = \"SoftwareDevelopment\"\n",
        "matchwords(s,list2,list3)"
      ]
    }
  ]
}