{
  "nbformat": 4,
  "nbformat_minor": 0,
  "metadata": {
    "colab": {
      "provenance": [],
      "authorship_tag": "ABX9TyNvhhFGbJTERDYT1EWKU/vx",
      "include_colab_link": true
    },
    "kernelspec": {
      "name": "python3",
      "display_name": "Python 3"
    },
    "language_info": {
      "name": "python"
    }
  },
  "cells": [
    {
      "cell_type": "markdown",
      "metadata": {
        "id": "view-in-github",
        "colab_type": "text"
      },
      "source": [
        "<a href=\"https://colab.research.google.com/github/revan-desai/pythonprograms/blob/main/godigit.ipynb\" target=\"_parent\"><img src=\"https://colab.research.google.com/assets/colab-badge.svg\" alt=\"Open In Colab\"/></a>"
      ]
    },
    {
      "cell_type": "code",
      "source": [
        "def matchwords(l:list,s:str)->bool:\n",
        "  for i in l:\n",
        "    if i not in s:\n",
        "      print(i)\n",
        "      return False\n",
        "  return True\n",
        "\n",
        "list3=[\"Software\", \"Development\",\"Innovation\", \"Research\"]\n",
        "s = \"SoftwareDevelopmentInnovation\"\n",
        "matchwords(list3,s)"
      ],
      "metadata": {
        "id": "OrqQB5Log6D8",
        "outputId": "5c8c3007-d5c3-4cf9-9267-6e344f414804",
        "colab": {
          "base_uri": "https://localhost:8080/"
        }
      },
      "execution_count": 1,
      "outputs": [
        {
          "output_type": "stream",
          "name": "stdout",
          "text": [
            "Research\n"
          ]
        },
        {
          "output_type": "execute_result",
          "data": {
            "text/plain": [
              "False"
            ]
          },
          "metadata": {},
          "execution_count": 1
        }
      ]
    },
    {
      "cell_type": "code",
      "execution_count": null,
      "metadata": {
        "colab": {
          "base_uri": "https://localhost:8080/"
        },
        "id": "Mu93RlRlyNjg",
        "outputId": "44c6f6b9-79fb-4d64-9388-05f9a2a73261"
      },
      "outputs": [
        {
          "output_type": "stream",
          "name": "stdout",
          "text": [
            "True\n"
          ]
        }
      ],
      "source": [
        "import re\n",
        "def matchwords(s,list2,list3):\n",
        "    count=0\n",
        "    words = re.findall('[A-Z][a-z]*', s)\n",
        "    for i,j in zip(words,list3):\n",
        "        if i==j:\n",
        "            count+=1\n",
        "    if count==len(words):\n",
        "        print(True)\n",
        "    else:\n",
        "        print(False)\n",
        "\n",
        "list2 = [ \"Development\", \"Software\", \"Innovation\", \"Research\" ]\n",
        "list3=[\"Software\", \"Development\",\"Innovation\", \"Research\"]\n",
        "s = \"SoftwareDevelopmentInnovation\"\n",
        "matchwords(s,list2,list3)"
      ]
    }
  ]
}