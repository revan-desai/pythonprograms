{
  "nbformat": 4,
  "nbformat_minor": 0,
  "metadata": {
    "colab": {
      "provenance": [],
      "authorship_tag": "ABX9TyO0jVeyRQYK0+cynqjQ2uEs",
      "include_colab_link": true
    },
    "kernelspec": {
      "name": "python3",
      "display_name": "Python 3"
    },
    "language_info": {
      "name": "python"
    }
  },
  "cells": [
    {
      "cell_type": "markdown",
      "metadata": {
        "id": "view-in-github",
        "colab_type": "text"
      },
      "source": [
        "<a href=\"https://colab.research.google.com/github/revan-desai/pythonprograms/blob/main/word_count_in_string.ipynb\" target=\"_parent\"><img src=\"https://colab.research.google.com/assets/colab-badge.svg\" alt=\"Open In Colab\"/></a>"
      ]
    },
    {
      "cell_type": "code",
      "execution_count": null,
      "metadata": {
        "id": "y3UJ5MYwSLoa"
      },
      "outputs": [],
      "source": [
        "c=\"python is very very easy programming language is not it\"\n",
        "e=c.split()\n",
        "e.sort(reverse=True)\n",
        "\n",
        "d={}\n",
        "for i in e:\n",
        "  if i in d.keys():\n",
        "    d[i]=d[i]+1\n",
        "  else:\n",
        "    d[i]=1\n",
        "\n",
        "print(d)\n"
      ]
    }
  ]
}