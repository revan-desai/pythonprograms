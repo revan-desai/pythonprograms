{
  "nbformat": 4,
  "nbformat_minor": 0,
  "metadata": {
    "colab": {
      "provenance": [],
      "authorship_tag": "ABX9TyNBWCmeV9VzzxhIWAPrpS1T",
      "include_colab_link": true
    },
    "kernelspec": {
      "name": "python3",
      "display_name": "Python 3"
    },
    "language_info": {
      "name": "python"
    }
  },
  "cells": [
    {
      "cell_type": "markdown",
      "metadata": {
        "id": "view-in-github",
        "colab_type": "text"
      },
      "source": [
        "<a href=\"https://colab.research.google.com/github/revan-desai/pythonprograms/blob/main/godigit_intervew.ipynb\" target=\"_parent\"><img src=\"https://colab.research.google.com/assets/colab-badge.svg\" alt=\"Open In Colab\"/></a>"
      ]
    },
    {
      "cell_type": "code",
      "execution_count": null,
      "metadata": {
        "colab": {
          "base_uri": "https://localhost:8080/"
        },
        "id": "Mu93RlRlyNjg",
        "outputId": "a3ceb0ca-51d5-40ca-87d8-6d7e53e6e7fb"
      },
      "outputs": [
        {
          "output_type": "stream",
          "name": "stdout",
          "text": [
            "True\n"
          ]
        }
      ],
      "source": [
        "import re\n",
        "def matchwords(s,list2,list3):\n",
        "    count=0\n",
        "    words = re.findall(r'[A-Z][a-z]*', s)\n",
        "    for i,j in zip(words,list3):\n",
        "        if i==j:\n",
        "            count+=1\n",
        "    if count==2:\n",
        "        print(True)\n",
        "    else:\n",
        "        print(False)\n",
        "\n",
        "list2 = [ \"Development\", \"Software\", \"Innovation\", \"Research\" ]\n",
        "list3=[\"Software\", \"Development\",\"Innovation\", \"Research\"]\n",
        "s = \"SoftwareDevelopment\"\n",
        "matchwords(s,list2,list3)"
      ]
    }
  ]
}