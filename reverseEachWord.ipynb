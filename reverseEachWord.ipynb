{
  "nbformat": 4,
  "nbformat_minor": 0,
  "metadata": {
    "colab": {
      "provenance": [],
      "authorship_tag": "ABX9TyN9IifwKL1Z4cwdeqkgfOaG",
      "include_colab_link": true
    },
    "kernelspec": {
      "name": "python3",
      "display_name": "Python 3"
    },
    "language_info": {
      "name": "python"
    }
  },
  "cells": [
    {
      "cell_type": "markdown",
      "metadata": {
        "id": "view-in-github",
        "colab_type": "text"
      },
      "source": [
        "<a href=\"https://colab.research.google.com/github/revan-desai/pythonbasics/blob/main/reverseEachWord.ipynb\" target=\"_parent\"><img src=\"https://colab.research.google.com/assets/colab-badge.svg\" alt=\"Open In Colab\"/></a>"
      ]
    },
    {
      "cell_type": "code",
      "execution_count": 5,
      "metadata": {
        "colab": {
          "base_uri": "https://localhost:8080/"
        },
        "id": "PmgnkHf0TsUi",
        "outputId": "19711623-3691-4161-8dba-85bd00a18931"
      },
      "outputs": [
        {
          "output_type": "stream",
          "name": "stdout",
          "text": [
            "nohtyp si nrob ni 1991 "
          ]
        }
      ],
      "source": [
        "a=\"python is born in 1991\"\n",
        "b=a.split(\" \")\n",
        "for i in range(len(b)):\n",
        "  k=b[i]\n",
        "  print(k[::-1],end=\" \")"
      ]
    }
  ]
}