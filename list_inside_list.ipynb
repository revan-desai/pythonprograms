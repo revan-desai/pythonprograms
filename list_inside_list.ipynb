{
  "nbformat": 4,
  "nbformat_minor": 0,
  "metadata": {
    "colab": {
      "provenance": [],
      "authorship_tag": "ABX9TyNygha4qgeXJMI9jOgEGNQO",
      "include_colab_link": true
    },
    "kernelspec": {
      "name": "python3",
      "display_name": "Python 3"
    },
    "language_info": {
      "name": "python"
    }
  },
  "cells": [
    {
      "cell_type": "markdown",
      "metadata": {
        "id": "view-in-github",
        "colab_type": "text"
      },
      "source": [
        "<a href=\"https://colab.research.google.com/github/revan-desai/pythonprograms/blob/main/list_inside_list.ipynb\" target=\"_parent\"><img src=\"https://colab.research.google.com/assets/colab-badge.svg\" alt=\"Open In Colab\"/></a>"
      ]
    },
    {
      "cell_type": "code",
      "source": [
        "res=[]\n",
        "def onelist(a):\n",
        "  for i in a:\n",
        "    if type(i)==list:\n",
        "      onelist(i)\n",
        "    else:\n",
        "      res.append(i)\n",
        "\n",
        "list1=[-1,2,3,[1,2,3,[8,9]],[8,7,9]]\n",
        "\n",
        "onelist(list1)\n",
        "\n",
        "print(res)"
      ],
      "metadata": {
        "colab": {
          "base_uri": "https://localhost:8080/"
        },
        "id": "2BBA9BMkS9He",
        "outputId": "bba77101-df88-42f5-f85b-2204e584c0fb"
      },
      "execution_count": 25,
      "outputs": [
        {
          "output_type": "stream",
          "name": "stdout",
          "text": [
            "[-1, 2, 3, 1, 2, 3, 8, 9, 8, 7, 9]\n"
          ]
        }
      ]
    }
  ]
}