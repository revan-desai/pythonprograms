{
  "nbformat": 4,
  "nbformat_minor": 0,
  "metadata": {
    "colab": {
      "provenance": [],
      "authorship_tag": "ABX9TyPNjyrlhVkKzsPZzT6jL1EG",
      "include_colab_link": true
    },
    "kernelspec": {
      "name": "python3",
      "display_name": "Python 3"
    },
    "language_info": {
      "name": "python"
    }
  },
  "cells": [
    {
      "cell_type": "markdown",
      "metadata": {
        "id": "view-in-github",
        "colab_type": "text"
      },
      "source": [
        "<a href=\"https://colab.research.google.com/github/revan-desai/pythonprograms/blob/main/second_largest_number.ipynb\" target=\"_parent\"><img src=\"https://colab.research.google.com/assets/colab-badge.svg\" alt=\"Open In Colab\"/></a>"
      ]
    },
    {
      "cell_type": "code",
      "source": [
        "import numpy as np\n",
        "list1=[8,5,5,5,7,8,5]\n",
        "first_max=max(list1[0],list1[1])\n",
        "second_max=min(list1[0],list1[1])\n",
        "\n",
        "if first_max==second_max:\n",
        "  for i in range(2,len(list1)):\n",
        "    if list1[i]!=second_max:\n",
        "      second_max=list1[i]\n",
        "      break\n",
        "\n",
        "for i in range(2,len(list1)):\n",
        "  if first_max<list1[i]:\n",
        "    second_max=first_max\n",
        "    first_max=list1[i]\n",
        "  elif second_max<list1[i] and first_max!=list1[i]:\n",
        "    second_max=list1[i]\n",
        "\n",
        "print(first_max,second_max)"
      ],
      "metadata": {
        "colab": {
          "base_uri": "https://localhost:8080/"
        },
        "id": "RAAlwEauJmId",
        "outputId": "bc39bc13-14d7-4d97-d80c-67f2f0c941cc"
      },
      "execution_count": 150,
      "outputs": [
        {
          "output_type": "stream",
          "name": "stdout",
          "text": [
            "8 7\n"
          ]
        }
      ]
    }
  ]
}