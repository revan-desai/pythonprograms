{
  "nbformat": 4,
  "nbformat_minor": 0,
  "metadata": {
    "colab": {
      "provenance": [],
      "authorship_tag": "ABX9TyMkqPCS0BjJFmODGmM3RXgq",
      "include_colab_link": true
    },
    "kernelspec": {
      "name": "python3",
      "display_name": "Python 3"
    },
    "language_info": {
      "name": "python"
    }
  },
  "cells": [
    {
      "cell_type": "markdown",
      "metadata": {
        "id": "view-in-github",
        "colab_type": "text"
      },
      "source": [
        "<a href=\"https://colab.research.google.com/github/revan-desai/pythonprograms/blob/main/exponentia_interview.ipynb\" target=\"_parent\"><img src=\"https://colab.research.google.com/assets/colab-badge.svg\" alt=\"Open In Colab\"/></a>"
      ]
    },
    {
      "cell_type": "code",
      "execution_count": 5,
      "metadata": {
        "colab": {
          "base_uri": "https://localhost:8080/"
        },
        "id": "DPowmemxL1W6",
        "outputId": "a8e57446-fc24-44d1-e4b1-1a5cc0f4a232"
      },
      "outputs": [
        {
          "output_type": "stream",
          "name": "stdout",
          "text": [
            "5\n"
          ]
        }
      ],
      "source": [
        "s='We SHOULd go to the BEACh'\n",
        "l_count=[]\n",
        "count=0\n",
        "for i in s:\n",
        "  if i.isupper():\n",
        "    count+=1\n",
        "    l_count.append(count)\n",
        "  else:\n",
        "    count=0\n",
        "\n",
        "l=sorted(l_count)\n",
        "print(l[-1])\n"
      ]
    }
  ]
}