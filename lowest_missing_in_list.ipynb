{
  "nbformat": 4,
  "nbformat_minor": 0,
  "metadata": {
    "colab": {
      "provenance": [],
      "authorship_tag": "ABX9TyOBvyoVe71UOI1ar/qcNO/5",
      "include_colab_link": true
    },
    "kernelspec": {
      "name": "python3",
      "display_name": "Python 3"
    },
    "language_info": {
      "name": "python"
    }
  },
  "cells": [
    {
      "cell_type": "markdown",
      "metadata": {
        "id": "view-in-github",
        "colab_type": "text"
      },
      "source": [
        "<a href=\"https://colab.research.google.com/github/revan-desai/pythonprograms/blob/main/lowest_missing_in_list.ipynb\" target=\"_parent\"><img src=\"https://colab.research.google.com/assets/colab-badge.svg\" alt=\"Open In Colab\"/></a>"
      ]
    },
    {
      "cell_type": "code",
      "execution_count": 20,
      "metadata": {
        "colab": {
          "base_uri": "https://localhost:8080/"
        },
        "id": "nAW5mJnjsLW2",
        "outputId": "9c7a84a4-e7b8-4179-9f2f-33da3e14b330"
      },
      "outputs": [
        {
          "output_type": "stream",
          "name": "stdout",
          "text": [
            "4\n"
          ]
        }
      ],
      "source": [
        "list1=[1,-1,3,7,8,0,2,5,-6]\n",
        "list2=[]\n",
        "for i in range(min(list1),max(list1)+1):\n",
        "  if i not in list1 and i>0:\n",
        "    list2.append(i)\n",
        "\n",
        "print(sorted(list2)[0])"
      ]
    },
    {
      "cell_type": "code",
      "source": [
        "list1=[3,7,-1,1,8,9,10]\n",
        "list2=[]\n",
        "\n",
        "[list2.append(i) for i in range(min(list1),max(list1)+1) if i not in list1 and i>0]\n",
        "\n",
        "print(sorted(list2)[0])"
      ],
      "metadata": {
        "colab": {
          "base_uri": "https://localhost:8080/"
        },
        "id": "DUlSKAeKwesf",
        "outputId": "15991524-d905-42f0-908b-40b92f3265be"
      },
      "execution_count": 19,
      "outputs": [
        {
          "output_type": "stream",
          "name": "stdout",
          "text": [
            "2\n"
          ]
        }
      ]
    }
  ]
}