{
  "nbformat": 4,
  "nbformat_minor": 0,
  "metadata": {
    "colab": {
      "provenance": [],
      "authorship_tag": "ABX9TyNlfL/Frtg1QUarDoAY3Xj3",
      "include_colab_link": true
    },
    "kernelspec": {
      "name": "python3",
      "display_name": "Python 3"
    },
    "language_info": {
      "name": "python"
    }
  },
  "cells": [
    {
      "cell_type": "markdown",
      "metadata": {
        "id": "view-in-github",
        "colab_type": "text"
      },
      "source": [
        "<a href=\"https://colab.research.google.com/github/revan-desai/pythonprograms/blob/main/lowest_missing_in_list.ipynb\" target=\"_parent\"><img src=\"https://colab.research.google.com/assets/colab-badge.svg\" alt=\"Open In Colab\"/></a>"
      ]
    },
    {
      "cell_type": "code",
      "execution_count": 20,
      "metadata": {
        "colab": {
          "base_uri": "https://localhost:8080/"
        },
        "id": "nAW5mJnjsLW2",
        "outputId": "9c7a84a4-e7b8-4179-9f2f-33da3e14b330"
      },
      "outputs": [
        {
          "output_type": "stream",
          "name": "stdout",
          "text": [
            "4\n"
          ]
        }
      ],
      "source": [
        "list1=[1,-1,3,7,8,0,2,5,-6]\n",
        "list2=[]\n",
        "for i in range(min(list1),max(list1)+1):\n",
        "  if i not in list1 and i>0:\n",
        "    list2.append(i)\n",
        "\n",
        "print(sorted(list2)[0])"
      ]
    },
    {
      "cell_type": "code",
      "source": [
        "list1=[3,7,-1,1,8,9,10]\n",
        "list2=[]\n",
        "[list2.append(i) for i in range(0,max(list1)+1) if i not in list1 and i>0]\n",
        "\n",
        "print(min(list2))"
      ],
      "metadata": {
        "colab": {
          "base_uri": "https://localhost:8080/"
        },
        "id": "URbdTu-GzwRp",
        "outputId": "f80ae2d8-71df-4411-a08a-1311d58a55df"
      },
      "execution_count": 30,
      "outputs": [
        {
          "output_type": "stream",
          "name": "stdout",
          "text": [
            "2\n"
          ]
        }
      ]
    },
    {
      "cell_type": "code",
      "source": [
        "list1=[3,7,-1,1,8,9,10]\n",
        "\n",
        "min([i for i in range(0,max(list1)+1) if i not in list1 and i>0])\n"
      ],
      "metadata": {
        "colab": {
          "base_uri": "https://localhost:8080/"
        },
        "id": "DUlSKAeKwesf",
        "outputId": "734ea53d-dd31-413e-a874-ebd0bd6270ab"
      },
      "execution_count": 29,
      "outputs": [
        {
          "output_type": "execute_result",
          "data": {
            "text/plain": [
              "2"
            ]
          },
          "metadata": {},
          "execution_count": 29
        }
      ]
    }
  ]
}