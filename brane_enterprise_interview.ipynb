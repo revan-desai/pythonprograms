{
  "cells": [
    {
      "cell_type": "markdown",
      "metadata": {
        "id": "view-in-github",
        "colab_type": "text"
      },
      "source": [
        "<a href=\"https://colab.research.google.com/github/revan-desai/pythonprograms/blob/main/brane_enterprise_interview.ipynb\" target=\"_parent\"><img src=\"https://colab.research.google.com/assets/colab-badge.svg\" alt=\"Open In Colab\"/></a>"
      ]
    },
    {
      "cell_type": "code",
      "execution_count": 23,
      "metadata": {
        "id": "6J_3u-uA2J_W"
      },
      "outputs": [],
      "source": [
        "students = [['Harry', 37.21], ['Berry', 37.21], ['Tina', 37.2], ['Akriti', 41], ['Harsh', 39]]"
      ]
    },
    {
      "cell_type": "code",
      "execution_count": 36,
      "metadata": {
        "colab": {
          "base_uri": "https://localhost:8080/"
        },
        "id": "zAMLAqBO24i-",
        "outputId": "bf70aadc-1d6d-4df7-e163-ddd67f6f4e56"
      },
      "outputs": [
        {
          "output_type": "execute_result",
          "data": {
            "text/plain": [
              "{'Tina': 37.2, 'Harry': 37.21, 'Berry': 37.21, 'Harsh': 39, 'Akriti': 41}"
            ]
          },
          "metadata": {},
          "execution_count": 36
        }
      ],
      "source": [
        "d={}\n",
        "for i in students:\n",
        "  name,score=i[0],i[1]\n",
        "  if name not in d:\n",
        "    d[name]=score\n",
        "\n",
        "res=dict(sorted(d.items(),key=lambda x:x[1]))\n",
        "res"
      ]
    },
    {
      "cell_type": "code",
      "source": [
        "res1=tuple(sorted(d.items(),key=lambda x:x[1]))\n",
        "print(res1[0],res1[-1])"
      ],
      "metadata": {
        "colab": {
          "base_uri": "https://localhost:8080/"
        },
        "id": "8_4uSgbId9XQ",
        "outputId": "f2c3897c-0e9e-4f51-ff04-20919dfb49ee"
      },
      "execution_count": 41,
      "outputs": [
        {
          "output_type": "stream",
          "name": "stdout",
          "text": [
            "('Tina', 37.2) ('Akriti', 41)\n"
          ]
        }
      ]
    },
    {
      "cell_type": "code",
      "source": [],
      "metadata": {
        "id": "Tv8FxYr_cqJy"
      },
      "execution_count": null,
      "outputs": []
    },
    {
      "cell_type": "code",
      "execution_count": 26,
      "metadata": {
        "colab": {
          "base_uri": "https://localhost:8080/"
        },
        "id": "usybjc9g85Wf",
        "outputId": "70f986f5-bcc6-429b-f151-7928bd96d430"
      },
      "outputs": [
        {
          "output_type": "stream",
          "name": "stdout",
          "text": [
            "topper is Akriti with 41 marks\n",
            "lowest scorer is Tina with 37.2 marks\n"
          ]
        }
      ],
      "source": [
        "result=sorted(students,key=lambda x:x[1])\n",
        "print(f\"topper is {result[-1][0]} with {result[-1][1]} marks\")\n",
        "print(f\"lowest scorer is {result[0][0]} with {result[0][1]} marks\")"
      ]
    }
  ],
  "metadata": {
    "colab": {
      "provenance": [],
      "authorship_tag": "ABX9TyOwoK10lVkg9L7jsEk7Q8I7",
      "include_colab_link": true
    },
    "kernelspec": {
      "display_name": "Python 3",
      "name": "python3"
    },
    "language_info": {
      "name": "python"
    }
  },
  "nbformat": 4,
  "nbformat_minor": 0
}