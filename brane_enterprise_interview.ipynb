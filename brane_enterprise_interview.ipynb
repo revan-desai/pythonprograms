{
  "nbformat": 4,
  "nbformat_minor": 0,
  "metadata": {
    "colab": {
      "provenance": [],
      "authorship_tag": "ABX9TyNEIhU+g0jCVh5d7uzVffpe",
      "include_colab_link": true
    },
    "kernelspec": {
      "name": "python3",
      "display_name": "Python 3"
    },
    "language_info": {
      "name": "python"
    }
  },
  "cells": [
    {
      "cell_type": "markdown",
      "metadata": {
        "id": "view-in-github",
        "colab_type": "text"
      },
      "source": [
        "<a href=\"https://colab.research.google.com/github/revan-desai/pythonprograms/blob/main/brane_enterprise_interview.ipynb\" target=\"_parent\"><img src=\"https://colab.research.google.com/assets/colab-badge.svg\" alt=\"Open In Colab\"/></a>"
      ]
    },
    {
      "cell_type": "code",
      "execution_count": 22,
      "metadata": {
        "id": "6J_3u-uA2J_W"
      },
      "outputs": [],
      "source": [
        "students = [['Harry', 37.21], ['Berry', 37.21], ['Tina', 37.2], ['Akriti', 41], ['Harsh', 39]]"
      ]
    },
    {
      "cell_type": "code",
      "source": [
        "d={}\n",
        "for i in students:\n",
        "  name,score=i[0],i[1]\n",
        "  if name not in d:\n",
        "    d[name]=score\n",
        "\n",
        "dict(sorted(d.items(),key=lambda x:x[1]))\n"
      ],
      "metadata": {
        "colab": {
          "base_uri": "https://localhost:8080/"
        },
        "id": "zAMLAqBO24i-",
        "outputId": "896a4c73-36b9-4a4b-9bcc-dfdd5a2026b1"
      },
      "execution_count": 23,
      "outputs": [
        {
          "output_type": "execute_result",
          "data": {
            "text/plain": [
              "{'Tina': 37.2, 'Harry': 37.21, 'Berry': 37.21, 'Harsh': 39, 'Akriti': 41}"
            ]
          },
          "metadata": {},
          "execution_count": 23
        }
      ]
    },
    {
      "cell_type": "code",
      "source": [
        "result=sorted(students,key=lambda x:x[1])\n",
        "print(f\"topper is {result[-1][0]} with {result[-1][1]} marks\")"
      ],
      "metadata": {
        "id": "sZ9hkOCFEEOe",
        "outputId": "cd1e2814-5492-4100-ee22-5c06c098063e",
        "colab": {
          "base_uri": "https://localhost:8080/"
        }
      },
      "execution_count": 24,
      "outputs": [
        {
          "output_type": "stream",
          "name": "stdout",
          "text": [
            "topper is Akriti with 41 marks\n"
          ]
        }
      ]
    }
  ]
}