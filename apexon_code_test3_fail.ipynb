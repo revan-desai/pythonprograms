{
  "nbformat": 4,
  "nbformat_minor": 0,
  "metadata": {
    "colab": {
      "provenance": [],
      "authorship_tag": "ABX9TyPxN5j1T+HNqBwHFIK0lHpY",
      "include_colab_link": true
    },
    "kernelspec": {
      "name": "python3",
      "display_name": "Python 3"
    },
    "language_info": {
      "name": "python"
    }
  },
  "cells": [
    {
      "cell_type": "markdown",
      "metadata": {
        "id": "view-in-github",
        "colab_type": "text"
      },
      "source": [
        "<a href=\"https://colab.research.google.com/github/revan-desai/pythonprograms/blob/main/apexon_code_test3_fail.ipynb\" target=\"_parent\"><img src=\"https://colab.research.google.com/assets/colab-badge.svg\" alt=\"Open In Colab\"/></a>"
      ]
    },
    {
      "cell_type": "code",
      "execution_count": null,
      "metadata": {
        "id": "AVp3yMKW5XbR"
      },
      "outputs": [],
      "source": [
        "# Example 1:\n",
        "# Input: s = \"abcabcbb\"\n",
        "# Output: 3\n",
        "# Explanation: The answer is \"abc\", with the length of 3.\n",
        "# Example 2:\n",
        "# Input: s = \"bbbbb\"\n",
        "# Output: 1\n",
        "# Explanation: The answer is \"b\", with the length of 1.\n",
        "# Example 3:\n",
        "# Input: s = \"pwwkew\"\n",
        "# Output: 3\n",
        "# Explanation: The answer is \"wke\", with the length of 3.\n",
        "# Notice that the answer must be a substring, \"pwke\" is a subsequence and not a substring.\n",
        "# has context menu\n",
        "\n",
        "\n",
        "# has context menu"
      ]
    },
    {
      "cell_type": "code",
      "source": [
        "l1=[]\n",
        "def substring(s1):\n",
        "  res=\"\"\n",
        "  print(res)\n",
        "  for i in range(len(s1)):\n",
        "    if s1[i] not in res:\n",
        "      res+=s1[i]\n",
        "    else:\n",
        "      l1.append(res)\n",
        "      res=\"\"\n",
        "      substring(s1[i:len(s1)])\n",
        "  return l1\n",
        "\n",
        "s=\"pwwkewb\"\n",
        "result=substring(s)     # all test cases passed but still not correct\n",
        "print(max(map(lambda x:len(x),result)),sorted(result,key=lambda x:len(x))[-1])"
      ],
      "metadata": {
        "colab": {
          "base_uri": "https://localhost:8080/"
        },
        "id": "XIkc45Mo9M1D",
        "outputId": "65795401-bdbc-4f8c-8712-17a65f637e9b"
      },
      "execution_count": 3,
      "outputs": [
        {
          "output_type": "stream",
          "name": "stdout",
          "text": [
            "\n",
            "\n",
            "\n",
            "3 wke\n"
          ]
        }
      ]
    },
    {
      "cell_type": "code",
      "source": [
        "def substring(s):\n",
        "    longest_substr = \"\"\n",
        "    current_substr = \"\"\n",
        "    for char in s:\n",
        "        if char not in current_substr:\n",
        "            current_substr += char\n",
        "            if len(current_substr) > len(longest_substr):\n",
        "                longest_substr = current_substr\n",
        "        else:\n",
        "            current_substr = current_substr[current_substr.index(char) + 1:] + char\n",
        "    return longest_substr\n",
        "\n",
        "s = \"pwwkewly\"\n",
        "result = substring(s)\n",
        "print(result)"
      ],
      "metadata": {
        "colab": {
          "base_uri": "https://localhost:8080/"
        },
        "id": "xFyFkLT8JVu4",
        "outputId": "5d6457ac-813f-433b-88ea-7e91454409c1"
      },
      "execution_count": null,
      "outputs": [
        {
          "output_type": "stream",
          "name": "stdout",
          "text": [
            "kewly\n"
          ]
        }
      ]
    }
  ]
}