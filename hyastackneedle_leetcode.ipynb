{
  "nbformat": 4,
  "nbformat_minor": 0,
  "metadata": {
    "colab": {
      "provenance": [],
      "authorship_tag": "ABX9TyP5kV/g7HZJDKLBvcQ2wOXT",
      "include_colab_link": true
    },
    "kernelspec": {
      "name": "python3",
      "display_name": "Python 3"
    },
    "language_info": {
      "name": "python"
    }
  },
  "cells": [
    {
      "cell_type": "markdown",
      "metadata": {
        "id": "view-in-github",
        "colab_type": "text"
      },
      "source": [
        "<a href=\"https://colab.research.google.com/github/revan-desai/pythonprograms/blob/main/hyastackneedle_leetcode.ipynb\" target=\"_parent\"><img src=\"https://colab.research.google.com/assets/colab-badge.svg\" alt=\"Open In Colab\"/></a>"
      ]
    },
    {
      "cell_type": "code",
      "source": [
        "def strsStr(haystack,needle):\n",
        "  for i in range(len(haystack)-len(needle)+1):\n",
        "    if haystack[i:i+len(needle)]==needle:\n",
        "      return i\n",
        "  return -1\n",
        "\n",
        "strStr(\"badbutsad\",\"sad\")"
      ],
      "metadata": {
        "colab": {
          "base_uri": "https://localhost:8080/"
        },
        "id": "zhIQkS1KpzE1",
        "outputId": "ed5b7359-80f4-4608-9b3a-162cc0bde200"
      },
      "execution_count": 126,
      "outputs": [
        {
          "output_type": "execute_result",
          "data": {
            "text/plain": [
              "6"
            ]
          },
          "metadata": {},
          "execution_count": 126
        }
      ]
    },
    {
      "cell_type": "code",
      "source": [
        "def findIndex(nums,target):\n",
        "  nums.sort()\n",
        "  j=1\n",
        "  for i in range(len(nums)):\n",
        "    if nums[i]==j:\n",
        "\n",
        "\n",
        "findIndex([1,2,3,4],2)"
      ],
      "metadata": {
        "colab": {
          "base_uri": "https://localhost:8080/",
          "height": 106
        },
        "id": "mgixZceFvPK2",
        "outputId": "d51f666b-71b4-44d5-a873-dbdca42040fa"
      },
      "execution_count": 130,
      "outputs": [
        {
          "output_type": "error",
          "ename": "IndentationError",
          "evalue": "expected an indented block after 'for' statement on line 3 (<ipython-input-130-58c53fc54d93>, line 6)",
          "traceback": [
            "\u001b[0;36m  File \u001b[0;32m\"<ipython-input-130-58c53fc54d93>\"\u001b[0;36m, line \u001b[0;32m6\u001b[0m\n\u001b[0;31m    findIndex([1,8,5,6],2)\u001b[0m\n\u001b[0m                          ^\u001b[0m\n\u001b[0;31mIndentationError\u001b[0m\u001b[0;31m:\u001b[0m expected an indented block after 'for' statement on line 3\n"
          ]
        }
      ]
    }
  ]
}