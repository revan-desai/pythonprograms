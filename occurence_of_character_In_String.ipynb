{
  "nbformat": 4,
  "nbformat_minor": 0,
  "metadata": {
    "colab": {
      "provenance": [],
      "authorship_tag": "ABX9TyPEF7yp1HRJRO8DMqolQktJ",
      "include_colab_link": true
    },
    "kernelspec": {
      "name": "python3",
      "display_name": "Python 3"
    },
    "language_info": {
      "name": "python"
    }
  },
  "cells": [
    {
      "cell_type": "markdown",
      "metadata": {
        "id": "view-in-github",
        "colab_type": "text"
      },
      "source": [
        "<a href=\"https://colab.research.google.com/github/revan-desai/pythonprograms/blob/main/occurence_of_character_In_String.ipynb\" target=\"_parent\"><img src=\"https://colab.research.google.com/assets/colab-badge.svg\" alt=\"Open In Colab\"/></a>"
      ]
    },
    {
      "cell_type": "markdown",
      "source": [
        "#occurence of character in string"
      ],
      "metadata": {
        "id": "f59Fwqf8KLKk"
      }
    },
    {
      "cell_type": "code",
      "execution_count": 1,
      "metadata": {
        "colab": {
          "base_uri": "https://localhost:8080/"
        },
        "id": "fScJr9nDKKe7",
        "outputId": "908591c1-1a0c-4650-cde1-0f0692af8d84"
      },
      "outputs": [
        {
          "output_type": "stream",
          "name": "stdout",
          "text": [
            "{'a': 4, 'b': 2, 'c': 2, 'd': 2, 'e': 1}\n"
          ]
        }
      ],
      "source": [
        "s=\"aaabbccddea\"\n",
        "d={}\n",
        "for i in s:\n",
        "      if i in d.keys():\n",
        "        d[i]=d[i]+1       # for 2nd iteration--here i=a is key & d[i] i.e. d[a] will return value of that particular key\n",
        "      else:\n",
        "        d[i]=1\n",
        "print(d)"
      ]
    }
  ]
}