{
  "nbformat": 4,
  "nbformat_minor": 0,
  "metadata": {
    "colab": {
      "provenance": [],
      "authorship_tag": "ABX9TyP/5k2PhEIkOYwiP4QWeL8u",
      "include_colab_link": true
    },
    "kernelspec": {
      "name": "python3",
      "display_name": "Python 3"
    },
    "language_info": {
      "name": "python"
    }
  },
  "cells": [
    {
      "cell_type": "markdown",
      "metadata": {
        "id": "view-in-github",
        "colab_type": "text"
      },
      "source": [
        "<a href=\"https://colab.research.google.com/github/revan-desai/pythonprograms/blob/main/sorting_list_ascending.ipynb\" target=\"_parent\"><img src=\"https://colab.research.google.com/assets/colab-badge.svg\" alt=\"Open In Colab\"/></a>"
      ]
    },
    {
      "cell_type": "code",
      "execution_count": 3,
      "metadata": {
        "colab": {
          "base_uri": "https://localhost:8080/"
        },
        "id": "7HqyZ9aCA1U2",
        "outputId": "70999ed2-d449-4ef7-a529-580701b57293"
      },
      "outputs": [
        {
          "output_type": "stream",
          "name": "stdout",
          "text": [
            "[5, 11, 22, 34, 47, 55]\n"
          ]
        }
      ],
      "source": [
        "list=[5,55,11,22,34,47]\n",
        "temp=0\n",
        "for i in range(len(list)-1):\n",
        "\n",
        "    for j in range(len(list)-i-1):\n",
        "\n",
        "      if list[j]>list[j+1]:\n",
        "         temp=list[j]\n",
        "         list[j]=list[j+1]\n",
        "         list[j+1]=temp\n",
        "      else:\n",
        "        pass\n",
        "print(list)\n",
        "\n",
        ""
      ]
    }
  ]
}