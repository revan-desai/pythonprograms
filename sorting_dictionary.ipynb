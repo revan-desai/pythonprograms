{
  "nbformat": 4,
  "nbformat_minor": 0,
  "metadata": {
    "colab": {
      "provenance": [],
      "authorship_tag": "ABX9TyOsL9geCiyAHrUF3QBv7r43",
      "include_colab_link": true
    },
    "kernelspec": {
      "name": "python3",
      "display_name": "Python 3"
    },
    "language_info": {
      "name": "python"
    }
  },
  "cells": [
    {
      "cell_type": "markdown",
      "metadata": {
        "id": "view-in-github",
        "colab_type": "text"
      },
      "source": [
        "<a href=\"https://colab.research.google.com/github/revan-desai/pythonprograms/blob/main/sorting_dictionary.ipynb\" target=\"_parent\"><img src=\"https://colab.research.google.com/assets/colab-badge.svg\" alt=\"Open In Colab\"/></a>"
      ]
    },
    {
      "cell_type": "code",
      "execution_count": 4,
      "metadata": {
        "colab": {
          "base_uri": "https://localhost:8080/"
        },
        "id": "1LqFckxQ7DsH",
        "outputId": "380c450c-1945-4fc0-ce3c-aa00da33710e"
      },
      "outputs": [
        {
          "output_type": "execute_result",
          "data": {
            "text/plain": [
              "[('pd', 22), ('kl', 22), ('rd', 30), ('cd', 59)]"
            ]
          },
          "metadata": {},
          "execution_count": 4
        }
      ],
      "source": [
        "dict1={'rd':30,'pd':22,'cd':59,'kl':22}\n",
        "\n",
        "res=sorted(dict1.items(),key=lambda x:x[1])\n",
        "\n",
        "res"
      ]
    },
    {
      "cell_type": "code",
      "source": [],
      "metadata": {
        "id": "0wKkhl5u8kHD"
      },
      "execution_count": null,
      "outputs": []
    }
  ]
}