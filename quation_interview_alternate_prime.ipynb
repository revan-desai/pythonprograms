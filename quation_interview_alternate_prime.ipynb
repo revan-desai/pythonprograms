{
  "nbformat": 4,
  "nbformat_minor": 0,
  "metadata": {
    "colab": {
      "provenance": [],
      "authorship_tag": "ABX9TyMFoOCHt8Vqen/uDBO5ciWi",
      "include_colab_link": true
    },
    "kernelspec": {
      "name": "python3",
      "display_name": "Python 3"
    },
    "language_info": {
      "name": "python"
    }
  },
  "cells": [
    {
      "cell_type": "markdown",
      "metadata": {
        "id": "view-in-github",
        "colab_type": "text"
      },
      "source": [
        "<a href=\"https://colab.research.google.com/github/revan-desai/pythonprograms/blob/main/quation_interview_alternate_prime.ipynb\" target=\"_parent\"><img src=\"https://colab.research.google.com/assets/colab-badge.svg\" alt=\"Open In Colab\"/></a>"
      ]
    },
    {
      "cell_type": "code",
      "source": [
        "def alternate_prime(n:int)->list:\n",
        "  l=[]\n",
        "  for num in range(1,n+1):\n",
        "    count=0\n",
        "    for j in range(1,num+1):\n",
        "      if num%j==0:\n",
        "        count+=1\n",
        "    if count==2:\n",
        "        l.append(num)\n",
        "  return l[::2]\n",
        "\n",
        "\n",
        "\n",
        "alternate_prime(100)"
      ],
      "metadata": {
        "colab": {
          "base_uri": "https://localhost:8080/"
        },
        "id": "n38rz_wC5b76",
        "outputId": "f7567996-d54f-4cca-daae-b1adc3ccbb56"
      },
      "execution_count": 35,
      "outputs": [
        {
          "output_type": "execute_result",
          "data": {
            "text/plain": [
              "[2, 5, 11, 17, 23, 31, 41, 47, 59, 67, 73, 83, 97]"
            ]
          },
          "metadata": {},
          "execution_count": 35
        }
      ]
    }
  ]
}