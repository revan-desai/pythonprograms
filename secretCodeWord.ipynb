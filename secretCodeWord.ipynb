{
  "nbformat": 4,
  "nbformat_minor": 0,
  "metadata": {
    "colab": {
      "provenance": [],
      "authorship_tag": "ABX9TyOlDoT7AKSllwh+v7qmCaMV",
      "include_colab_link": true
    },
    "kernelspec": {
      "name": "python3",
      "display_name": "Python 3"
    },
    "language_info": {
      "name": "python"
    }
  },
  "cells": [
    {
      "cell_type": "markdown",
      "metadata": {
        "id": "view-in-github",
        "colab_type": "text"
      },
      "source": [
        "<a href=\"https://colab.research.google.com/github/revan-desai/pythonprograms/blob/main/secretCodeWord.ipynb\" target=\"_parent\"><img src=\"https://colab.research.google.com/assets/colab-badge.svg\" alt=\"Open In Colab\"/></a>"
      ]
    },
    {
      "cell_type": "code",
      "execution_count": 73,
      "metadata": {
        "colab": {
          "base_uri": "https://localhost:8080/"
        },
        "id": "G2dJ8KpPivy7",
        "outputId": "9ce5b316-f575-4f5e-d1fc-11a0f5bbe9a6"
      },
      "outputs": [
        {
          "output_type": "stream",
          "name": "stdout",
          "text": [
            "welcome\n",
            "fDbelcomewAZR\n",
            "welcome\n"
          ]
        }
      ],
      "source": [
        "import random\n",
        "import string\n",
        "\n",
        "\n",
        "a=input()\n",
        "n=len(a)\n",
        "b=a[1:n]+a[0]\n",
        "\n",
        "letters = string.ascii_lowercase+string.ascii_uppercase\n",
        "\n",
        "r1= ''.join(random.choice(letters) for i in range(3))\n",
        "r2=''.join(random.choice(letters) for i in range(3))\n",
        "\n",
        "b1=r1+b+r2\n",
        "print(b1)\n",
        "\n",
        "if len(b1)<3:\n",
        "  print(b1[::-1])\n",
        "else:\n",
        "  n1=len(b1)\n",
        "  b2=b1[3:n1-4]\n",
        "  print(a[0]+b2)"
      ]
    }
  ]
}