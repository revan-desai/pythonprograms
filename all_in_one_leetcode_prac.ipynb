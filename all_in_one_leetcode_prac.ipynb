{
  "nbformat": 4,
  "nbformat_minor": 0,
  "metadata": {
    "colab": {
      "provenance": [],
      "authorship_tag": "ABX9TyO6NRjWmKiTwnDNhFKp7RtN",
      "include_colab_link": true
    },
    "kernelspec": {
      "name": "python3",
      "display_name": "Python 3"
    },
    "language_info": {
      "name": "python"
    }
  },
  "cells": [
    {
      "cell_type": "markdown",
      "metadata": {
        "id": "view-in-github",
        "colab_type": "text"
      },
      "source": [
        "<a href=\"https://colab.research.google.com/github/revan-desai/pythonprograms/blob/main/all_in_one_leetcode_prac.ipynb\" target=\"_parent\"><img src=\"https://colab.research.google.com/assets/colab-badge.svg\" alt=\"Open In Colab\"/></a>"
      ]
    },
    {
      "cell_type": "code",
      "source": [
        "def strStr(haystack:str,needle:str)->int:\n",
        "   for i in range(len(haystack)):\n",
        "    if haystack[i:i+len(needle)]==needle:\n",
        "      return i\n",
        "\n",
        "strStr(\"sadbadball\",\"ball\")"
      ],
      "metadata": {
        "id": "9ERGU-fgb85g",
        "colab": {
          "base_uri": "https://localhost:8080/"
        },
        "outputId": "d5eeabc8-6d34-491d-dbe0-574679cf37f4"
      },
      "execution_count": null,
      "outputs": [
        {
          "output_type": "execute_result",
          "data": {
            "text/plain": [
              "6"
            ]
          },
          "metadata": {},
          "execution_count": 89
        }
      ]
    },
    {
      "cell_type": "code",
      "source": [
        "def reverseVowels(s:str)->str:\n",
        "  s=list(s)\n",
        "  vowels=set(\"aeiouAEIOU\")\n",
        "  left=0\n",
        "  right=len(s)-1\n",
        "  while left<right:\n",
        "    if s[left] not in vowels:\n",
        "      left+=1\n",
        "    elif s[right] not in vowels:\n",
        "      right-=1\n",
        "    else:\n",
        "      s[left],s[right]=s[right],s[left]\n",
        "      left+=1\n",
        "      right-=1\n",
        "  return \"\".join(s)\n",
        "\n",
        "\n",
        "reverseVowels(\"leetcode\")\n",
        "reverseVowels(\"IceCreAm\")"
      ],
      "metadata": {
        "colab": {
          "base_uri": "https://localhost:8080/",
          "height": 35
        },
        "id": "ZR_ghXYdY1EE",
        "outputId": "cd5428a5-6d7b-4d3b-d569-c95dc3bd1278"
      },
      "execution_count": null,
      "outputs": [
        {
          "output_type": "execute_result",
          "data": {
            "text/plain": [
              "'AceCreIm'"
            ],
            "application/vnd.google.colaboratory.intrinsic+json": {
              "type": "string"
            }
          },
          "metadata": {},
          "execution_count": 61
        }
      ]
    },
    {
      "cell_type": "code",
      "source": [
        "def powerFour(n:int)->bool:\n",
        "  for i in range(n+1):\n",
        "    if i**4==n:\n",
        "      return True\n",
        "    else:\n",
        "      i+=1\n",
        "  return False\n",
        "\n",
        "powerFour(5)"
      ],
      "metadata": {
        "colab": {
          "base_uri": "https://localhost:8080/"
        },
        "id": "7gpgKAqhsMOe",
        "outputId": "1ec9fed3-9b0c-4fea-91db-a82b3145155c"
      },
      "execution_count": null,
      "outputs": [
        {
          "output_type": "execute_result",
          "data": {
            "text/plain": [
              "False"
            ]
          },
          "metadata": {},
          "execution_count": 65
        }
      ]
    },
    {
      "cell_type": "code",
      "source": [
        "def wordPattern(pattern:str,s:str)->bool:\n",
        "  if len(list(set(pattern)))==len(list(set(s.split()))):\n",
        "    return True\n",
        "  return False\n",
        "\n",
        "\n",
        "wordPattern(\"abba\",\"dog cat cat dog\")"
      ],
      "metadata": {
        "colab": {
          "base_uri": "https://localhost:8080/"
        },
        "id": "Y_GCv3Sxtq-k",
        "outputId": "cb39e93a-8a36-4109-8275-cf86e4b2a129"
      },
      "execution_count": null,
      "outputs": [
        {
          "output_type": "execute_result",
          "data": {
            "text/plain": [
              "True"
            ]
          },
          "metadata": {},
          "execution_count": 79
        }
      ]
    },
    {
      "cell_type": "code",
      "source": [
        "def majorityElement(nums:list)->int:\n",
        "  d={}\n",
        "  for i in nums:\n",
        "    if i not in d:\n",
        "      d[i]=1\n",
        "    else:\n",
        "      d[i]+=1\n",
        "  return list(sorted(d.items(),key=lambda x:x[1]))[-1][0]\n",
        "\n",
        "majorityElement([2,2,1,1,1,2,2])"
      ],
      "metadata": {
        "colab": {
          "base_uri": "https://localhost:8080/"
        },
        "id": "jVQ0cKBUw-Eo",
        "outputId": "6e9a81fa-0a09-4c30-ea1b-94a0a3f8b3f7"
      },
      "execution_count": null,
      "outputs": [
        {
          "output_type": "execute_result",
          "data": {
            "text/plain": [
              "2"
            ]
          },
          "metadata": {},
          "execution_count": 83
        }
      ]
    },
    {
      "cell_type": "code",
      "source": [
        "class ListNode:\n",
        "    def __init__(self, val=0, next=None):\n",
        "        self.val = val\n",
        "        self.next = next\n",
        "def deleteDuplicates(head:ListNode)->ListNode:\n",
        "  return sorted(set(head))\n",
        "\n",
        "deleteDuplicates([1,1,2,3,3,5,5])"
      ],
      "metadata": {
        "colab": {
          "base_uri": "https://localhost:8080/"
        },
        "id": "WFFZIsApzEO7",
        "outputId": "a3159550-63cb-48cd-aac2-ce1a7c75b449"
      },
      "execution_count": null,
      "outputs": [
        {
          "output_type": "execute_result",
          "data": {
            "text/plain": [
              "[1, 2, 3, 5]"
            ]
          },
          "metadata": {},
          "execution_count": 87
        }
      ]
    },
    {
      "cell_type": "code",
      "source": [
        "def merge(l1:list,l2:list)->list:\n",
        " for i in l2:\n",
        "  l1.append(i)\n",
        " l1.sort()\n",
        " return l1\n",
        "\n",
        "merge([1,2,4],[1,3,4])"
      ],
      "metadata": {
        "colab": {
          "base_uri": "https://localhost:8080/"
        },
        "id": "aNy51-2kK_a8",
        "outputId": "83b84355-5e06-4938-851c-cb1fecd029f1"
      },
      "execution_count": null,
      "outputs": [
        {
          "output_type": "execute_result",
          "data": {
            "text/plain": [
              "[1, 1, 2, 3, 4, 4]"
            ]
          },
          "metadata": {},
          "execution_count": 88
        }
      ]
    },
    {
      "cell_type": "code",
      "source": [
        "def plusOne(l:list)->list:\n",
        "   s=\"\"\n",
        "   l1=[]\n",
        "   for i in l:\n",
        "    s+=str(i)\n",
        "   k=str(int(s)+1)\n",
        "   for i in k:\n",
        "     l1.append(int(i))\n",
        "   return l1\n",
        "\n",
        "plusOne([4,3,2,1])"
      ],
      "metadata": {
        "colab": {
          "base_uri": "https://localhost:8080/"
        },
        "id": "pin-I2osPRjC",
        "outputId": "50b1c51b-5c28-45e0-88b8-9cb78d4a9ef5"
      },
      "execution_count": null,
      "outputs": [
        {
          "output_type": "execute_result",
          "data": {
            "text/plain": [
              "[4, 3, 2, 2]"
            ]
          },
          "metadata": {},
          "execution_count": 21
        }
      ]
    },
    {
      "cell_type": "code",
      "source": [
        "def longest(s:str)->int:\n",
        "  l=s.split(\" \")\n",
        "  l.sort(key=len)\n",
        "  return len(l[-1])\n",
        "\n",
        "longest(\"luffy is still joyboy\")"
      ],
      "metadata": {
        "colab": {
          "base_uri": "https://localhost:8080/"
        },
        "id": "h05TsewbK7Cz",
        "outputId": "7b815c91-0070-41ad-cab1-6528f026f108"
      },
      "execution_count": null,
      "outputs": [
        {
          "output_type": "execute_result",
          "data": {
            "text/plain": [
              "6"
            ]
          },
          "metadata": {},
          "execution_count": 4
        }
      ]
    },
    {
      "cell_type": "code",
      "source": [
        "class Solution:\n",
        "  def longest(self,s:str)->str:\n",
        "    current_substr=\"\"\n",
        "    longest_substr=\"\"\n",
        "    for i in s:\n",
        "      if i not in current_substr:\n",
        "        current_substr+=i                              #wke\n",
        "        if len(current_substr)>len(longest_substr):\n",
        "          longest_substr=current_substr                #pw\n",
        "      else:\n",
        "        current_substr=current_substr[current_substr.index(i)+1:]+i\n",
        "    return longest_substr\n",
        "\n",
        "e=Solution()\n",
        "e.longest(\"pwwkew\")"
      ],
      "metadata": {
        "colab": {
          "base_uri": "https://localhost:8080/",
          "height": 35
        },
        "id": "Kvpe1o-C_wFS",
        "outputId": "5ddce345-668d-4b36-9959-23031da74df9"
      },
      "execution_count": null,
      "outputs": [
        {
          "output_type": "execute_result",
          "data": {
            "text/plain": [
              "'wke'"
            ],
            "application/vnd.google.colaboratory.intrinsic+json": {
              "type": "string"
            }
          },
          "metadata": {},
          "execution_count": 52
        }
      ]
    },
    {
      "cell_type": "code",
      "source": [
        "def commonStr(l:list)->str:\n",
        "  ans=\"\"\n",
        "  l=sorted(l)\n",
        "  print(l)\n",
        "  for i,k in zip(l[0],l[-1]):\n",
        "    if i==k:\n",
        "      ans+=i\n",
        "    else:\n",
        "      return ans\n",
        "\n",
        "\n",
        "commonStr(['flower', 'flow', 'fly'])"
      ],
      "metadata": {
        "colab": {
          "base_uri": "https://localhost:8080/",
          "height": 53
        },
        "id": "UBjG9KNdB0IE",
        "outputId": "86059e65-daa9-4b9e-9544-3995b227547f"
      },
      "execution_count": 1,
      "outputs": [
        {
          "output_type": "stream",
          "name": "stdout",
          "text": [
            "['flow', 'flower', 'fly']\n"
          ]
        },
        {
          "output_type": "execute_result",
          "data": {
            "text/plain": [
              "'fl'"
            ],
            "application/vnd.google.colaboratory.intrinsic+json": {
              "type": "string"
            }
          },
          "metadata": {},
          "execution_count": 1
        }
      ]
    },
    {
      "cell_type": "code",
      "source": [],
      "metadata": {
        "id": "5iiaBWOEB8PG"
      },
      "execution_count": null,
      "outputs": []
    },
    {
      "cell_type": "code",
      "source": [
        "def removeNum(l:list,target:int)->list:\n",
        "  return [x for x in l if x!=target]\n",
        "\n",
        "removeNum([1,6,9,6,3,8,9],9)"
      ],
      "metadata": {
        "colab": {
          "base_uri": "https://localhost:8080/"
        },
        "id": "pI5froBiFvc4",
        "outputId": "9d5cc1f4-5c70-4954-8c04-da49e48af96e"
      },
      "execution_count": null,
      "outputs": [
        {
          "output_type": "execute_result",
          "data": {
            "text/plain": [
              "[1, 6, 6, 3, 8]"
            ]
          },
          "metadata": {},
          "execution_count": 53
        }
      ]
    },
    {
      "cell_type": "code",
      "source": [
        "def removeNum(l:list,target:int)->list:\n",
        "  res=[]\n",
        "  for i in l:\n",
        "    if i!=target:\n",
        "      res.append(i)\n",
        "  return res\n",
        "\n",
        "removeNum([1,6,9,6,3,8,9],9)"
      ],
      "metadata": {
        "colab": {
          "base_uri": "https://localhost:8080/"
        },
        "id": "BRiV63bfBhHd",
        "outputId": "b225eb40-e07d-4435-ffe3-f9e1a3b7852f"
      },
      "execution_count": null,
      "outputs": [
        {
          "output_type": "execute_result",
          "data": {
            "text/plain": [
              "[1, 6, 6, 3, 8]"
            ]
          },
          "metadata": {},
          "execution_count": 54
        }
      ]
    },
    {
      "cell_type": "code",
      "source": [
        "s=set()\n",
        "l=[55]\n",
        "s.add(5)\n",
        "s.add(59)\n",
        "s.add(37)\n",
        "s.add(565)\n",
        "\n",
        "t=(0,1,6)\n",
        "\n",
        "t[1]\n",
        "s.pop()"
      ],
      "metadata": {
        "colab": {
          "base_uri": "https://localhost:8080/"
        },
        "id": "Nf2WCGfJKVBo",
        "outputId": "b254151b-c0a2-4d2c-e047-213fe88c4062"
      },
      "execution_count": null,
      "outputs": [
        {
          "output_type": "execute_result",
          "data": {
            "text/plain": [
              "37"
            ]
          },
          "metadata": {},
          "execution_count": 55
        }
      ]
    },
    {
      "cell_type": "code",
      "source": [
        "set2={True,1,0,False}  #True and 1 are considered as one value\n",
        "set2"
      ],
      "metadata": {
        "colab": {
          "base_uri": "https://localhost:8080/"
        },
        "id": "n1aMtCoxNR1S",
        "outputId": "7a78fb5a-4c70-4aee-fabe-532526f6bec5"
      },
      "execution_count": null,
      "outputs": [
        {
          "output_type": "execute_result",
          "data": {
            "text/plain": [
              "{0, True}"
            ]
          },
          "metadata": {},
          "execution_count": 56
        }
      ]
    },
    {
      "cell_type": "code",
      "source": [
        "def isPalindrome(s: str) -> bool:\n",
        "        s = [c.lower() for c in s if c.isalnum()]\n",
        "        return all (s[i] == s[~i] for i in range(len(s)//2))\n",
        "\n",
        "isPalindrome(\"A man, a plan, a canal: Panama\")"
      ],
      "metadata": {
        "colab": {
          "base_uri": "https://localhost:8080/"
        },
        "id": "YTogE-yZQyFO",
        "outputId": "df9f9dd4-1a41-4e09-f738-43574b59f380"
      },
      "execution_count": null,
      "outputs": [
        {
          "output_type": "execute_result",
          "data": {
            "text/plain": [
              "True"
            ]
          },
          "metadata": {},
          "execution_count": 57
        }
      ]
    },
    {
      "cell_type": "code",
      "source": [
        "def isPalindrome(s:str)->bool:\n",
        "    res=''.join([x.lower() for x in s if x.isalnum()])\n",
        "    print(res)\n",
        "    if res==res[::-1]:\n",
        "      return True\n",
        "    else:\n",
        "      return False\n",
        "\n",
        "isPalindrome(\"A man, a plan, a canal: Panama\")"
      ],
      "metadata": {
        "colab": {
          "base_uri": "https://localhost:8080/"
        },
        "id": "1ImVFKU2Tjdi",
        "outputId": "43ad1016-c493-402d-a76e-e4f47d80f584"
      },
      "execution_count": null,
      "outputs": [
        {
          "output_type": "stream",
          "name": "stdout",
          "text": [
            "amanaplanacanalpanama\n"
          ]
        },
        {
          "output_type": "execute_result",
          "data": {
            "text/plain": [
              "True"
            ]
          },
          "metadata": {},
          "execution_count": 58
        }
      ]
    },
    {
      "cell_type": "code",
      "source": [
        "def binarySearch(arr,target)->int:\n",
        "  low=0\n",
        "  high=len(arr)-1\n",
        "  while low<=high:\n",
        "    mid=low+(high-low)//2\n",
        "    if arr[mid]==target:\n",
        "      return mid\n",
        "    elif arr[mid]<target:\n",
        "      low=mid+1\n",
        "    else:\n",
        "      high=mid-1\n",
        "  return low\n",
        "\n",
        "\n",
        "binarySearch([1,3,5,6,9],7)"
      ],
      "metadata": {
        "colab": {
          "base_uri": "https://localhost:8080/"
        },
        "id": "S83nwjuJXYFd",
        "outputId": "7c339f0a-826b-459a-912b-e01931fb81f2"
      },
      "execution_count": null,
      "outputs": [
        {
          "output_type": "execute_result",
          "data": {
            "text/plain": [
              "4"
            ]
          },
          "metadata": {},
          "execution_count": 1
        }
      ]
    },
    {
      "cell_type": "code",
      "source": [
        "def isPali(s:str)->bool:\n",
        "  # for i in range(len(s)//2):\n",
        "  #   print(s[i],s[~i])\n",
        "  return all(s[i]==s[~i] for i in range(len(s)//2))\n",
        "\n",
        "isPali(\"rotator\")"
      ],
      "metadata": {
        "colab": {
          "base_uri": "https://localhost:8080/"
        },
        "id": "hX8Efv10V5fk",
        "outputId": "4f7e7471-ac1d-4557-bb91-5c68dd76c0e6"
      },
      "execution_count": null,
      "outputs": [
        {
          "output_type": "execute_result",
          "data": {
            "text/plain": [
              "True"
            ]
          },
          "metadata": {},
          "execution_count": 14
        }
      ]
    },
    {
      "cell_type": "code",
      "source": [
        "def decora(func):\n",
        "  def wrapper(*args,**kwargs):\n",
        "    print(f\"calling function {func.__name__}\")\n",
        "    func(*args,**kwargs)\n",
        "  return wrapper\n",
        "\n",
        "@decora\n",
        "def addition(x,y):\n",
        "  print(x+y)\n",
        "\n",
        "@decora\n",
        "def substraction(x,y):\n",
        "  print(x-y)\n",
        "\n",
        "\n",
        "addition(60,70)\n",
        "substraction(100,40)"
      ],
      "metadata": {
        "colab": {
          "base_uri": "https://localhost:8080/"
        },
        "id": "VLdu_VJbBhZL",
        "outputId": "da7d7dfa-47af-46da-ab8a-bc4038c3f69e"
      },
      "execution_count": null,
      "outputs": [
        {
          "output_type": "stream",
          "name": "stdout",
          "text": [
            "calling function addition\n",
            "130\n",
            "calling function substraction\n",
            "60\n"
          ]
        }
      ]
    },
    {
      "cell_type": "code",
      "source": [
        "def decora(func):\n",
        "  def wrapper(*args,**kwargs):\n",
        "    print(f\"calling function {func.__name__}\")\n",
        "    func(*args,**kwargs)\n",
        "  return wrapper\n",
        "\n",
        "@decora\n",
        "def addition(x, y):\n",
        "    print(x + y)\n",
        "\n",
        "addition(50,20)"
      ],
      "metadata": {
        "colab": {
          "base_uri": "https://localhost:8080/"
        },
        "id": "2gMqSyuIvgwL",
        "outputId": "77825b94-268f-4299-a178-1cfd55e33f77"
      },
      "execution_count": null,
      "outputs": [
        {
          "output_type": "stream",
          "name": "stdout",
          "text": [
            "calling function addition\n",
            "70\n"
          ]
        }
      ]
    },
    {
      "cell_type": "code",
      "source": [
        "def isValid(s:str)->bool:\n",
        "  res=\"\"\n",
        "  for i in s:\n",
        "    if i==\"(\" or i==\")\":\n",
        "      res+=i\n",
        "  if res==\"()\":\n",
        "    return True\n",
        "\n",
        "isValid(\"()[]{}\")"
      ],
      "metadata": {
        "id": "U8ghXT6eoypQ",
        "colab": {
          "base_uri": "https://localhost:8080/"
        },
        "outputId": "4f790737-dfcb-481c-f376-971b96ffdb67"
      },
      "execution_count": null,
      "outputs": [
        {
          "output_type": "execute_result",
          "data": {
            "text/plain": [
              "True"
            ]
          },
          "metadata": {},
          "execution_count": 6
        }
      ]
    }
  ]
}