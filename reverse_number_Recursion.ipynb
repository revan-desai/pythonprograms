{
  "nbformat": 4,
  "nbformat_minor": 0,
  "metadata": {
    "colab": {
      "provenance": [],
      "authorship_tag": "ABX9TyPq0CGt9NFD6zBVZzWBlcfD",
      "include_colab_link": true
    },
    "kernelspec": {
      "name": "python3",
      "display_name": "Python 3"
    },
    "language_info": {
      "name": "python"
    }
  },
  "cells": [
    {
      "cell_type": "markdown",
      "metadata": {
        "id": "view-in-github",
        "colab_type": "text"
      },
      "source": [
        "<a href=\"https://colab.research.google.com/github/revan-desai/pythonprograms/blob/main/reverse_number_Recursion.ipynb\" target=\"_parent\"><img src=\"https://colab.research.google.com/assets/colab-badge.svg\" alt=\"Open In Colab\"/></a>"
      ]
    },
    {
      "cell_type": "code",
      "execution_count": null,
      "metadata": {
        "id": "R9H5blrwoLnF"
      },
      "outputs": [],
      "source": [
        "def rev(n):\n",
        "     print(n%10,end=\"\") #1\n",
        "     if n>10:\n",
        "      rev(n//10)\n",
        "\n",
        "rev(54321)"
      ]
    },
    {
      "cell_type": "code",
      "source": [
        "def reverse_num(n,rev):\n",
        "\n",
        "   rev=rev*10+n%10\n",
        "   if n>=10:\n",
        "      reverse_num(n//10,rev)\n",
        "   else:\n",
        "    print(rev)\n",
        "\n",
        "\n",
        "reverse_num(12345,0)"
      ],
      "metadata": {
        "id": "HA6yo7o2B31T"
      },
      "execution_count": null,
      "outputs": []
    }
  ]
}