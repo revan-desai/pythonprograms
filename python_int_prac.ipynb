{
  "nbformat": 4,
  "nbformat_minor": 0,
  "metadata": {
    "colab": {
      "provenance": [],
      "authorship_tag": "ABX9TyOxEUNUkdfvfCwv4O5K1jP5",
      "include_colab_link": true
    },
    "kernelspec": {
      "name": "python3",
      "display_name": "Python 3"
    },
    "language_info": {
      "name": "python"
    }
  },
  "cells": [
    {
      "cell_type": "markdown",
      "metadata": {
        "id": "view-in-github",
        "colab_type": "text"
      },
      "source": [
        "<a href=\"https://colab.research.google.com/github/revan-desai/pythonprograms/blob/main/python_int_prac.ipynb\" target=\"_parent\"><img src=\"https://colab.research.google.com/assets/colab-badge.svg\" alt=\"Open In Colab\"/></a>"
      ]
    },
    {
      "cell_type": "code",
      "execution_count": 41,
      "metadata": {
        "colab": {
          "base_uri": "https://localhost:8080/"
        },
        "id": "TnFrT-E6TL2N",
        "outputId": "ad71145c-1010-4323-ed9f-29f9ecc0402b"
      },
      "outputs": [
        {
          "output_type": "stream",
          "name": "stdout",
          "text": [
            "1\n",
            "1\n",
            "2\n",
            "3\n",
            "5\n",
            "8\n",
            "13\n",
            "21\n",
            "34\n",
            "55\n"
          ]
        }
      ],
      "source": [
        "def fibo(n:int)->int:\n",
        "  if n<=1:\n",
        "    return 1\n",
        "  else:\n",
        "    return fibo(n-1)+fibo(n-2)\n",
        "\n",
        "for i in range(10):\n",
        " print(fibo(i))"
      ]
    },
    {
      "cell_type": "code",
      "source": [
        "def facto(n:int)->int:  #5 4\n",
        "   res=1\n",
        "   for i in range(n):\n",
        "    res*=(n-i)\n",
        "   return res\n",
        "\n",
        "facto(5)"
      ],
      "metadata": {
        "colab": {
          "base_uri": "https://localhost:8080/"
        },
        "id": "EfNIF1QkVFCB",
        "outputId": "75a26579-5807-413d-f63d-df7e36d593aa"
      },
      "execution_count": 20,
      "outputs": [
        {
          "output_type": "execute_result",
          "data": {
            "text/plain": [
              "120"
            ]
          },
          "metadata": {},
          "execution_count": 20
        }
      ]
    },
    {
      "cell_type": "code",
      "source": [
        "students_dict = {\n",
        "    \"Alice Johnson\": 19,\n",
        "    \"Bob Smith\": 21,\n",
        "    \"Charlie Davis\": 20,\n",
        "    \"Diana Lee\": 22,\n",
        "    \"Ethan Clark\": 18,\n",
        "    \"Fiona Martinez\": 23,\n",
        "    \"George White\": 20,\n",
        "    \"Hannah Harris\": 21,\n",
        "    \"Ivy Robinson\": 19,\n",
        "    \"Jack Turner\": 22\n",
        "}\n",
        "dict(sorted(students_dict.items(),key=lambda x:x[1]))"
      ],
      "metadata": {
        "colab": {
          "base_uri": "https://localhost:8080/"
        },
        "id": "nKZAf4RjWBAZ",
        "outputId": "cbdbd67f-e5ee-42e9-d5f0-9697d7c1e528"
      },
      "execution_count": null,
      "outputs": [
        {
          "output_type": "execute_result",
          "data": {
            "text/plain": [
              "{'Ethan Clark': 18,\n",
              " 'Alice Johnson': 19,\n",
              " 'Ivy Robinson': 19,\n",
              " 'Charlie Davis': 20,\n",
              " 'George White': 20,\n",
              " 'Bob Smith': 21,\n",
              " 'Hannah Harris': 21,\n",
              " 'Diana Lee': 22,\n",
              " 'Jack Turner': 22,\n",
              " 'Fiona Martinez': 23}"
            ]
          },
          "metadata": {},
          "execution_count": 18
        }
      ]
    },
    {
      "cell_type": "code",
      "source": [
        "words = ['Hello', 'WORLD', 'Python', 'ProGRamming']\n",
        "\n",
        "[word.lower() for word in words]"
      ],
      "metadata": {
        "colab": {
          "base_uri": "https://localhost:8080/"
        },
        "id": "QTqVlwXdYPpT",
        "outputId": "e13f6121-e646-44f1-99c4-7872dfe1ea84"
      },
      "execution_count": null,
      "outputs": [
        {
          "output_type": "execute_result",
          "data": {
            "text/plain": [
              "['hello', 'world', 'python', 'programming']"
            ]
          },
          "metadata": {},
          "execution_count": 19
        }
      ]
    },
    {
      "cell_type": "code",
      "source": [
        "def prime(n:int)->bool:\n",
        " if n<=1:\n",
        "    return False\n",
        " for i in range(2,n):  # 1 \"2 3 4 5 6\" 7\n",
        "  if n%i==0:\n",
        "    return False\n",
        " return True\n",
        "prime(7)"
      ],
      "metadata": {
        "colab": {
          "base_uri": "https://localhost:8080/"
        },
        "id": "1OsOhQ_rbYM7",
        "outputId": "74f7fedc-e8cb-49d3-951b-3ca6a1309f7d"
      },
      "execution_count": 21,
      "outputs": [
        {
          "output_type": "execute_result",
          "data": {
            "text/plain": [
              "True"
            ]
          },
          "metadata": {},
          "execution_count": 21
        }
      ]
    },
    {
      "cell_type": "code",
      "source": [
        "def largest(l:list)->int:\n",
        "   max=0\n",
        "   for i in l:\n",
        "    if i>max:\n",
        "      max=i\n",
        "   return max\n",
        "\n",
        "largest([1,9,2,3,6,8,5])"
      ],
      "metadata": {
        "colab": {
          "base_uri": "https://localhost:8080/"
        },
        "id": "CifCN5b9fFXR",
        "outputId": "7deef845-9359-43fe-c189-038a2bb69362"
      },
      "execution_count": 22,
      "outputs": [
        {
          "output_type": "execute_result",
          "data": {
            "text/plain": [
              "9"
            ]
          },
          "metadata": {},
          "execution_count": 22
        }
      ]
    },
    {
      "cell_type": "code",
      "source": [
        "num=[1,9,2,3,6,8,5]\n",
        "for i in range(len(num)-1):\n",
        "  for j in range(i+1,len(num)):\n",
        "   if num[j]<num[i]:\n",
        "    num[i],num[j]=num[j],num[i]\n",
        "num"
      ],
      "metadata": {
        "colab": {
          "base_uri": "https://localhost:8080/"
        },
        "id": "FeiyVoRRifXu",
        "outputId": "90290fc2-ab3d-4a02-832f-b899277ca2a9"
      },
      "execution_count": 23,
      "outputs": [
        {
          "output_type": "execute_result",
          "data": {
            "text/plain": [
              "[1, 2, 3, 5, 6, 8, 9]"
            ]
          },
          "metadata": {},
          "execution_count": 23
        }
      ]
    },
    {
      "cell_type": "code",
      "source": [
        "numbers = [1, 9, 4, 2, 9, 3, 5, 6, 9, 2]\n",
        "d={}\n",
        "for i in numbers:\n",
        "  if i not in d:\n",
        "    d[i]=1\n",
        "  else:\n",
        "    d[i]+=1\n",
        "\n",
        "sorted(d.items(),key=lambda x:x[1])[-1][0]"
      ],
      "metadata": {
        "colab": {
          "base_uri": "https://localhost:8080/"
        },
        "id": "ODOTmhS7f5cZ",
        "outputId": "3b43cf63-55bc-468b-900d-696186d81e3b"
      },
      "execution_count": 11,
      "outputs": [
        {
          "output_type": "execute_result",
          "data": {
            "text/plain": [
              "9"
            ]
          },
          "metadata": {},
          "execution_count": 11
        }
      ]
    },
    {
      "cell_type": "code",
      "source": [
        "numbers = [1, 9, 4, 2, 9, 3, 5, 6, 9, 7]\n",
        "\n",
        "print(sorted(set(numbers))[-2])\n",
        "print(numbers)"
      ],
      "metadata": {
        "colab": {
          "base_uri": "https://localhost:8080/"
        },
        "id": "iAWszun4hhsN",
        "outputId": "97355cc7-28d7-4161-c279-cadec6b3d698"
      },
      "execution_count": 17,
      "outputs": [
        {
          "output_type": "stream",
          "name": "stdout",
          "text": [
            "7\n",
            "[1, 9, 4, 2, 9, 3, 5, 6, 9, 7]\n"
          ]
        }
      ]
    },
    {
      "cell_type": "code",
      "source": [
        "print(float(\"-inf\")<1000)"
      ],
      "metadata": {
        "colab": {
          "base_uri": "https://localhost:8080/"
        },
        "id": "3KLqcjuhgf7R",
        "outputId": "f44ccd5c-62bc-4f95-8f69-e08f26658474"
      },
      "execution_count": 4,
      "outputs": [
        {
          "output_type": "stream",
          "name": "stdout",
          "text": [
            "True\n"
          ]
        }
      ]
    },
    {
      "cell_type": "code",
      "source": [
        "def missing_num(l:list)->int:\n",
        " return min([i for i in range(min(l),max(l)+1) if i not in l and i>0])\n",
        "\n",
        "missing_num([-1,2,6,4,1,8,9])"
      ],
      "metadata": {
        "colab": {
          "base_uri": "https://localhost:8080/"
        },
        "id": "5vxKpYiCidM4",
        "outputId": "9d84c63a-b266-4eb1-aebc-56e33fa874aa"
      },
      "execution_count": 3,
      "outputs": [
        {
          "output_type": "execute_result",
          "data": {
            "text/plain": [
              "3"
            ]
          },
          "metadata": {},
          "execution_count": 3
        }
      ]
    },
    {
      "cell_type": "code",
      "source": [
        "l=[-1,2,6,4,1,8,9]\n",
        "\n",
        "min([i for i in range(min(l),max(l)+1) if i not in l])"
      ],
      "metadata": {
        "colab": {
          "base_uri": "https://localhost:8080/"
        },
        "id": "N_L0JXD9jEFG",
        "outputId": "084108b0-1f00-4350-a186-e95bcbc90a58"
      },
      "execution_count": 2,
      "outputs": [
        {
          "output_type": "execute_result",
          "data": {
            "text/plain": [
              "0"
            ]
          },
          "metadata": {},
          "execution_count": 2
        }
      ]
    },
    {
      "cell_type": "code",
      "source": [
        "def fibo(n:int)->list:\n",
        "  if n<=1:\n",
        "    return n\n",
        "  else:\n",
        "    fib_seq=[0,1]\n",
        "    for i in range(2,n):\n",
        "      fib_seq.append(fib_seq[-1]+fib_seq[-2])\n",
        "    return fib_seq\n",
        "\n",
        "fibo(2)          #without recursion bcoz better time complexity  O(n).....in recusrion it is O(n^2)"
      ],
      "metadata": {
        "colab": {
          "base_uri": "https://localhost:8080/"
        },
        "id": "kn5ZCd3KeJc6",
        "outputId": "046603fd-28ed-4810-9705-5dd49a67b24d"
      },
      "execution_count": 42,
      "outputs": [
        {
          "output_type": "execute_result",
          "data": {
            "text/plain": [
              "[0, 1]"
            ]
          },
          "metadata": {},
          "execution_count": 42
        }
      ]
    }
  ]
}