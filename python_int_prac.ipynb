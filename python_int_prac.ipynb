{
  "nbformat": 4,
  "nbformat_minor": 0,
  "metadata": {
    "colab": {
      "provenance": [],
      "authorship_tag": "ABX9TyMZFcHXXo2YCMgflBavvZ6H",
      "include_colab_link": true
    },
    "kernelspec": {
      "name": "python3",
      "display_name": "Python 3"
    },
    "language_info": {
      "name": "python"
    }
  },
  "cells": [
    {
      "cell_type": "markdown",
      "metadata": {
        "id": "view-in-github",
        "colab_type": "text"
      },
      "source": [
        "<a href=\"https://colab.research.google.com/github/revan-desai/pythonprograms/blob/main/python_int_prac.ipynb\" target=\"_parent\"><img src=\"https://colab.research.google.com/assets/colab-badge.svg\" alt=\"Open In Colab\"/></a>"
      ]
    },
    {
      "cell_type": "code",
      "execution_count": 9,
      "metadata": {
        "colab": {
          "base_uri": "https://localhost:8080/"
        },
        "id": "TnFrT-E6TL2N",
        "outputId": "8a875809-d4a3-43f7-ccd3-e287b73e3000"
      },
      "outputs": [
        {
          "output_type": "stream",
          "name": "stdout",
          "text": [
            "1\n",
            "1\n",
            "2\n",
            "3\n",
            "5\n",
            "8\n",
            "13\n",
            "21\n",
            "34\n",
            "55\n"
          ]
        }
      ],
      "source": [
        "def fibo(n:int)->int:\n",
        "  if n<=1:\n",
        "    return 1\n",
        "  else:\n",
        "    return fibo(n-1)+fibo(n-2)\n",
        "\n",
        "for i in range(10):\n",
        " print(fibo(i))"
      ]
    },
    {
      "cell_type": "code",
      "source": [
        "def facto(n:int)->int:  #5 4\n",
        "   res=1\n",
        "   for i in range(n):\n",
        "    res*=(n-i)\n",
        "   return res\n",
        "\n",
        "facto(5)"
      ],
      "metadata": {
        "colab": {
          "base_uri": "https://localhost:8080/"
        },
        "id": "EfNIF1QkVFCB",
        "outputId": "982b5988-ba96-4549-e699-502e2bfa4093"
      },
      "execution_count": 14,
      "outputs": [
        {
          "output_type": "execute_result",
          "data": {
            "text/plain": [
              "120"
            ]
          },
          "metadata": {},
          "execution_count": 14
        }
      ]
    },
    {
      "cell_type": "code",
      "source": [
        "students_dict = {\n",
        "    \"Alice Johnson\": 19,\n",
        "    \"Bob Smith\": 21,\n",
        "    \"Charlie Davis\": 20,\n",
        "    \"Diana Lee\": 22,\n",
        "    \"Ethan Clark\": 18,\n",
        "    \"Fiona Martinez\": 23,\n",
        "    \"George White\": 20,\n",
        "    \"Hannah Harris\": 21,\n",
        "    \"Ivy Robinson\": 19,\n",
        "    \"Jack Turner\": 22\n",
        "}\n",
        "dict(sorted(students_dict.items(),key=lambda x:x[1]))"
      ],
      "metadata": {
        "colab": {
          "base_uri": "https://localhost:8080/"
        },
        "id": "nKZAf4RjWBAZ",
        "outputId": "cbdbd67f-e5ee-42e9-d5f0-9697d7c1e528"
      },
      "execution_count": 18,
      "outputs": [
        {
          "output_type": "execute_result",
          "data": {
            "text/plain": [
              "{'Ethan Clark': 18,\n",
              " 'Alice Johnson': 19,\n",
              " 'Ivy Robinson': 19,\n",
              " 'Charlie Davis': 20,\n",
              " 'George White': 20,\n",
              " 'Bob Smith': 21,\n",
              " 'Hannah Harris': 21,\n",
              " 'Diana Lee': 22,\n",
              " 'Jack Turner': 22,\n",
              " 'Fiona Martinez': 23}"
            ]
          },
          "metadata": {},
          "execution_count": 18
        }
      ]
    },
    {
      "cell_type": "code",
      "source": [
        "words = ['Hello', 'WORLD', 'Python', 'ProGRamming']\n",
        "\n",
        "[word.lower() for word in words]"
      ],
      "metadata": {
        "colab": {
          "base_uri": "https://localhost:8080/"
        },
        "id": "QTqVlwXdYPpT",
        "outputId": "e13f6121-e646-44f1-99c4-7872dfe1ea84"
      },
      "execution_count": 19,
      "outputs": [
        {
          "output_type": "execute_result",
          "data": {
            "text/plain": [
              "['hello', 'world', 'python', 'programming']"
            ]
          },
          "metadata": {},
          "execution_count": 19
        }
      ]
    },
    {
      "cell_type": "code",
      "source": [
        "def prime(n:int)->bool:\n",
        " if n<=1:\n",
        "    return False\n",
        " for i in range(2,n):  # 1 \"2 3 4 5 6\" 7\n",
        "  if n%i==0:\n",
        "    return False\n",
        " return True\n",
        "\n",
        "prime(7)"
      ],
      "metadata": {
        "colab": {
          "base_uri": "https://localhost:8080/"
        },
        "id": "1OsOhQ_rbYM7",
        "outputId": "d32bea70-d7a2-465d-dc5c-52777de38af6"
      },
      "execution_count": 39,
      "outputs": [
        {
          "output_type": "execute_result",
          "data": {
            "text/plain": [
              "True"
            ]
          },
          "metadata": {},
          "execution_count": 39
        }
      ]
    },
    {
      "cell_type": "code",
      "source": [
        "def largest(l:list)->int:\n",
        "\n",
        "\n",
        "largest([1,9,2,3,6])"
      ],
      "metadata": {
        "colab": {
          "base_uri": "https://localhost:8080/"
        },
        "id": "CifCN5b9fFXR",
        "outputId": "378b7d69-04ff-4606-d11a-bc37b527662a"
      },
      "execution_count": 43,
      "outputs": [
        {
          "output_type": "execute_result",
          "data": {
            "text/plain": [
              "6"
            ]
          },
          "metadata": {},
          "execution_count": 43
        }
      ]
    },
    {
      "cell_type": "code",
      "source": [
        "print(float(\"-inf\")<1000)"
      ],
      "metadata": {
        "colab": {
          "base_uri": "https://localhost:8080/"
        },
        "id": "3KLqcjuhgf7R",
        "outputId": "9c54e93e-497f-4792-e8c6-c3eedd4b1143"
      },
      "execution_count": 47,
      "outputs": [
        {
          "output_type": "stream",
          "name": "stdout",
          "text": [
            "True\n"
          ]
        }
      ]
    },
    {
      "cell_type": "code",
      "source": [
        "def missing_num(l:list)->int:\n",
        " return min([i for i in range(min(l),max(l)+1) if i not in l and i>0])\n",
        "\n",
        "missing_num([-1,2,6,4,1,8,9])"
      ],
      "metadata": {
        "colab": {
          "base_uri": "https://localhost:8080/"
        },
        "id": "5vxKpYiCidM4",
        "outputId": "b0b80e04-68b0-4ae9-a748-66e0b8ba8f3f"
      },
      "execution_count": 52,
      "outputs": [
        {
          "output_type": "execute_result",
          "data": {
            "text/plain": [
              "3"
            ]
          },
          "metadata": {},
          "execution_count": 52
        }
      ]
    },
    {
      "cell_type": "code",
      "source": [
        "l=[-1,2,6,4,1,8,9]\n",
        "\n",
        "min([i for i in range(min(l),max(l)+1) if i not in l])"
      ],
      "metadata": {
        "colab": {
          "base_uri": "https://localhost:8080/"
        },
        "id": "N_L0JXD9jEFG",
        "outputId": "7e3e5506-713e-4673-a96c-5490ad5fa00b"
      },
      "execution_count": 54,
      "outputs": [
        {
          "output_type": "execute_result",
          "data": {
            "text/plain": [
              "0"
            ]
          },
          "metadata": {},
          "execution_count": 54
        }
      ]
    }
  ]
}