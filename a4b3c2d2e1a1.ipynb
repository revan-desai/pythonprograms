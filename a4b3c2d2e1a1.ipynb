{
  "nbformat": 4,
  "nbformat_minor": 0,
  "metadata": {
    "colab": {
      "provenance": [],
      "authorship_tag": "ABX9TyNiNk9MoegEksV4qbCi/QtL",
      "include_colab_link": true
    },
    "kernelspec": {
      "name": "python3",
      "display_name": "Python 3"
    },
    "language_info": {
      "name": "python"
    }
  },
  "cells": [
    {
      "cell_type": "markdown",
      "metadata": {
        "id": "view-in-github",
        "colab_type": "text"
      },
      "source": [
        "<a href=\"https://colab.research.google.com/github/revan-desai/pythonbasics/blob/main/a4b3c2d2e1a1.ipynb\" target=\"_parent\"><img src=\"https://colab.research.google.com/assets/colab-badge.svg\" alt=\"Open In Colab\"/></a>"
      ]
    },
    {
      "cell_type": "code",
      "execution_count": 49,
      "metadata": {
        "id": "HqydVY5TL-Yp",
        "colab": {
          "base_uri": "https://localhost:8080/"
        },
        "outputId": "d712fad1-27e3-46ed-ad4a-fc98027ebd3f"
      },
      "outputs": [
        {
          "output_type": "stream",
          "name": "stdout",
          "text": [
            "aaaabbbccddea\n"
          ]
        }
      ],
      "source": [
        "a=\"a4b3c2d2e1a1\"\n",
        "result=\"\"\n",
        "for i in a:\n",
        "   if i.isalpha():\n",
        "    x=i\n",
        "   else:\n",
        "    result=result+x*int(i)\n",
        "\n",
        "\n",
        "print(result)\n",
        "\n"
      ]
    }
  ]
}