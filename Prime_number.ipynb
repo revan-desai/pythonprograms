{
  "nbformat": 4,
  "nbformat_minor": 0,
  "metadata": {
    "colab": {
      "provenance": [],
      "authorship_tag": "ABX9TyNPvEzNYIbLr0bbygOaH2yK",
      "include_colab_link": true
    },
    "kernelspec": {
      "name": "python3",
      "display_name": "Python 3"
    },
    "language_info": {
      "name": "python"
    }
  },
  "cells": [
    {
      "cell_type": "markdown",
      "metadata": {
        "id": "view-in-github",
        "colab_type": "text"
      },
      "source": [
        "<a href=\"https://colab.research.google.com/github/revan-desai/pythonprograms/blob/main/Prime_number.ipynb\" target=\"_parent\"><img src=\"https://colab.research.google.com/assets/colab-badge.svg\" alt=\"Open In Colab\"/></a>"
      ]
    },
    {
      "cell_type": "code",
      "execution_count": 15,
      "metadata": {
        "colab": {
          "base_uri": "https://localhost:8080/"
        },
        "id": "QHcMwLfdsZPt",
        "outputId": "15ba8e7e-fc47-45bc-eb7a-a4a3741e3920"
      },
      "outputs": [
        {
          "output_type": "stream",
          "name": "stdout",
          "text": [
            "prime\n"
          ]
        }
      ],
      "source": [
        "n=17\n",
        "count=0\n",
        "for i in range(1,n+1):\n",
        "  if n%i==0:\n",
        "    count+=1\n",
        "  else:\n",
        "    pass\n",
        "if count==2:\n",
        "  print('prime')\n",
        "else:\n",
        "  print('not prime')"
      ]
    }
  ]
}