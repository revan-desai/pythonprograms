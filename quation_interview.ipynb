{
  "nbformat": 4,
  "nbformat_minor": 0,
  "metadata": {
    "colab": {
      "provenance": [],
      "authorship_tag": "ABX9TyPckH3QI/WZoHMD2eRfm6yV",
      "include_colab_link": true
    },
    "kernelspec": {
      "name": "python3",
      "display_name": "Python 3"
    },
    "language_info": {
      "name": "python"
    }
  },
  "cells": [
    {
      "cell_type": "markdown",
      "metadata": {
        "id": "view-in-github",
        "colab_type": "text"
      },
      "source": [
        "<a href=\"https://colab.research.google.com/github/revan-desai/pythonprograms/blob/main/quation_interview.ipynb\" target=\"_parent\"><img src=\"https://colab.research.google.com/assets/colab-badge.svg\" alt=\"Open In Colab\"/></a>"
      ]
    },
    {
      "cell_type": "code",
      "source": [
        "'''print alternate\n",
        "    prime number\n",
        "    between 1 to 100'''\n",
        "\n",
        "flag1=True\n",
        "for n in range(1,101):\n",
        "  count=0\n",
        "  for i in range(1,n+1):\n",
        "    if n%i==0:\n",
        "      count+=1\n",
        "  if count==2:\n",
        "   if flag1==True :\n",
        "    print('prime',n)\n",
        "   flag1=not(flag1)\n",
        ""
      ],
      "metadata": {
        "colab": {
          "base_uri": "https://localhost:8080/"
        },
        "id": "vMzmMNtgL9St",
        "outputId": "d030e67d-a2c8-407c-ce9a-9ce4895f6f61"
      },
      "execution_count": 25,
      "outputs": [
        {
          "output_type": "stream",
          "name": "stdout",
          "text": [
            "prime 2\n",
            "prime 5\n",
            "prime 11\n",
            "prime 17\n",
            "prime 23\n",
            "prime 31\n",
            "prime 41\n",
            "prime 47\n",
            "prime 59\n",
            "prime 67\n",
            "prime 73\n",
            "prime 83\n",
            "prime 97\n"
          ]
        }
      ]
    },
    {
      "cell_type": "code",
      "source": [],
      "metadata": {
        "id": "TKOG6DuNPHID"
      },
      "execution_count": null,
      "outputs": []
    },
    {
      "cell_type": "code",
      "source": [],
      "metadata": {
        "id": "kw2aTgI7LvOI"
      },
      "execution_count": null,
      "outputs": []
    },
    {
      "cell_type": "code",
      "source": [
        "precision=df_predictions['predictions']==1/((df['predictions']==1)+(df['actuals']==1))\n",
        "\n",
        "recall="
      ],
      "metadata": {
        "colab": {
          "base_uri": "https://localhost:8080/",
          "height": 110
        },
        "id": "9iFC93ZTJqfE",
        "outputId": "74c24aca-2328-42f7-e7b4-e713163cb090"
      },
      "execution_count": null,
      "outputs": [
        {
          "output_type": "error",
          "ename": "SyntaxError",
          "evalue": "invalid syntax (<ipython-input-1-6d9e1f6b9784>, line 3)",
          "traceback": [
            "\u001b[0;36m  File \u001b[0;32m\"<ipython-input-1-6d9e1f6b9784>\"\u001b[0;36m, line \u001b[0;32m3\u001b[0m\n\u001b[0;31m    recall=\u001b[0m\n\u001b[0m           ^\u001b[0m\n\u001b[0;31mSyntaxError\u001b[0m\u001b[0;31m:\u001b[0m invalid syntax\n"
          ]
        }
      ]
    },
    {
      "cell_type": "code",
      "source": [],
      "metadata": {
        "id": "yuEvq5uGLhnD"
      },
      "execution_count": null,
      "outputs": []
    }
  ]
}