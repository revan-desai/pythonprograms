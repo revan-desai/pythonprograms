{
  "nbformat": 4,
  "nbformat_minor": 0,
  "metadata": {
    "colab": {
      "provenance": [],
      "authorship_tag": "ABX9TyNrp4qNaz3RKIcENQ/Fq3A0",
      "include_colab_link": true
    },
    "kernelspec": {
      "name": "python3",
      "display_name": "Python 3"
    },
    "language_info": {
      "name": "python"
    }
  },
  "cells": [
    {
      "cell_type": "markdown",
      "metadata": {
        "id": "view-in-github",
        "colab_type": "text"
      },
      "source": [
        "<a href=\"https://colab.research.google.com/github/revan-desai/pythonprograms/blob/main/quation_interview.ipynb\" target=\"_parent\"><img src=\"https://colab.research.google.com/assets/colab-badge.svg\" alt=\"Open In Colab\"/></a>"
      ]
    },
    {
      "cell_type": "code",
      "source": [
        "'''print alternate\n",
        "    prime number\n",
        "    between 1 to 100'''\n",
        "\n",
        "flag=True\n",
        "for n in range(1,101):\n",
        "  count=0\n",
        "  for i in range(1,n+1):\n",
        "    if n%i==0:\n",
        "      count+=1\n",
        "  if count==2:\n",
        "   if flag==True:\n",
        "    print('prime',n)\n",
        "   flag=not(flag)"
      ],
      "metadata": {
        "colab": {
          "base_uri": "https://localhost:8080/"
        },
        "id": "vMzmMNtgL9St",
        "outputId": "6222f9de-166e-48e8-9b19-9b18e54aad47"
      },
      "execution_count": 28,
      "outputs": [
        {
          "output_type": "stream",
          "name": "stdout",
          "text": [
            "prime 2\n",
            "prime 5\n",
            "prime 11\n",
            "prime 17\n",
            "prime 23\n",
            "prime 31\n",
            "prime 41\n",
            "prime 47\n",
            "prime 59\n",
            "prime 67\n",
            "prime 73\n",
            "prime 83\n",
            "prime 97\n"
          ]
        }
      ]
    }
  ]
}