{
  "nbformat": 4,
  "nbformat_minor": 0,
  "metadata": {
    "colab": {
      "provenance": [],
      "authorship_tag": "ABX9TyOO7kAP85/n0PYDMo7Ciogp",
      "include_colab_link": true
    },
    "kernelspec": {
      "name": "python3",
      "display_name": "Python 3"
    },
    "language_info": {
      "name": "python"
    }
  },
  "cells": [
    {
      "cell_type": "markdown",
      "metadata": {
        "id": "view-in-github",
        "colab_type": "text"
      },
      "source": [
        "<a href=\"https://colab.research.google.com/github/revan-desai/pythonbasics/blob/main/reverseString.ipynb\" target=\"_parent\"><img src=\"https://colab.research.google.com/assets/colab-badge.svg\" alt=\"Open In Colab\"/></a>"
      ]
    },
    {
      "cell_type": "code",
      "execution_count": 1,
      "metadata": {
        "id": "HqydVY5TL-Yp",
        "colab": {
          "base_uri": "https://localhost:8080/"
        },
        "outputId": "d9e9837c-bf46-4c31-8921-b134e44ed353"
      },
      "outputs": [
        {
          "output_type": "stream",
          "name": "stdout",
          "text": [
            "laicifitra\n"
          ]
        }
      ],
      "source": [
        "a=\"artificial\"\n",
        "b=a[-1::-1]\n",
        "print(b)\n",
        "\n"
      ]
    }
  ]
}