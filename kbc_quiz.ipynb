{
  "nbformat": 4,
  "nbformat_minor": 0,
  "metadata": {
    "colab": {
      "provenance": [],
      "authorship_tag": "ABX9TyOrYJ/yTEeM21JpvlU+S2a8",
      "include_colab_link": true
    },
    "kernelspec": {
      "name": "python3",
      "display_name": "Python 3"
    },
    "language_info": {
      "name": "python"
    }
  },
  "cells": [
    {
      "cell_type": "markdown",
      "metadata": {
        "id": "view-in-github",
        "colab_type": "text"
      },
      "source": [
        "<a href=\"https://colab.research.google.com/github/revan-desai/pythonprograms/blob/main/kbc_quiz.ipynb\" target=\"_parent\"><img src=\"https://colab.research.google.com/assets/colab-badge.svg\" alt=\"Open In Colab\"/></a>"
      ]
    },
    {
      "cell_type": "code",
      "execution_count": 83,
      "metadata": {
        "colab": {
          "base_uri": "https://localhost:8080/"
        },
        "id": "-K0KRT4W3L2_",
        "outputId": "fad5cd42-b3e1-4035-82e8-0549b4fdb54c"
      },
      "outputs": [
        {
          "output_type": "stream",
          "name": "stdout",
          "text": [
            "capital of india?\n",
            "['mumbai', 'new delhi', 'kolkata', 'chennai']\n",
            "new delhi\n",
            "you won  5000\n",
            "largest planet?\n",
            "['saturn', 'pluto', 'jupiter', 'earth']\n",
            "jupiter\n",
            "you won  10000\n",
            "president of US?\n",
            "['donald trump', 'barak obama', 'winston churchill', 'joe biden']\n",
            "joe biden\n",
            "you won  20000\n",
            "you are playing really great\n"
          ]
        }
      ],
      "source": [
        "list=['capital of india?','new delhi','largest planet?','jupiter','president of US?','joe biden']\n",
        "listopt=[['mumbai','new delhi','kolkata','chennai'],['saturn','pluto','jupiter','earth'],['donald trump','barak obama','winston churchill','joe biden']]\n",
        "winprize=5000\n",
        "j=0\n",
        "for i in range(len(list)):\n",
        "  if i%2==0:\n",
        "    print(list[i])\n",
        "    print(listopt[j])\n",
        "    cans=list[i+1]\n",
        "  else:\n",
        "    continue\n",
        "  ans=input()\n",
        "  ans1=ans.lower()\n",
        "  if ans1==cans:\n",
        "    j=j+1\n",
        "    print('you won ',winprize)\n",
        "    winprize=winprize*2\n",
        "    if winprize>20000:\n",
        "     print('you are playing really great')\n",
        "    else:\n",
        "      continue\n",
        "  else:\n",
        "     print('your journey ends here')\n",
        "     break"
      ]
    }
  ]
}