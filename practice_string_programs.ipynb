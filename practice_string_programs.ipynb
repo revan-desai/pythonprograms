{
  "nbformat": 4,
  "nbformat_minor": 0,
  "metadata": {
    "colab": {
      "provenance": [],
      "authorship_tag": "ABX9TyMXp/0ywwmMT6FpZBbeclXw",
      "include_colab_link": true
    },
    "kernelspec": {
      "name": "python3",
      "display_name": "Python 3"
    },
    "language_info": {
      "name": "python"
    }
  },
  "cells": [
    {
      "cell_type": "markdown",
      "metadata": {
        "id": "view-in-github",
        "colab_type": "text"
      },
      "source": [
        "<a href=\"https://colab.research.google.com/github/revan-desai/pythonprograms/blob/main/practice_string_programs.ipynb\" target=\"_parent\"><img src=\"https://colab.research.google.com/assets/colab-badge.svg\" alt=\"Open In Colab\"/></a>"
      ]
    },
    {
      "cell_type": "code",
      "source": [
        "s='hello world and practice makes perfect and band'\n",
        "res=[word for word in s.split(' ')]\n",
        "\n",
        "k=' '.join(sorted(list(set(res))))\n",
        "k\n"
      ],
      "metadata": {
        "colab": {
          "base_uri": "https://localhost:8080/",
          "height": 36
        },
        "id": "jZemi848WQOX",
        "outputId": "b682fbd7-ad10-4ac7-d71b-1c9f073e0c86"
      },
      "execution_count": 28,
      "outputs": [
        {
          "output_type": "execute_result",
          "data": {
            "text/plain": [
              "'and band hello makes perfect practice world'"
            ],
            "application/vnd.google.colaboratory.intrinsic+json": {
              "type": "string"
            }
          },
          "metadata": {},
          "execution_count": 28
        }
      ]
    },
    {
      "cell_type": "code",
      "source": [
        "a=\"a4b3c2d2e1a1\"\n",
        "res=''\n",
        "for i in a:\n",
        "  if i.isalpha():\n",
        "    x=i\n",
        "  else:\n",
        "   res=res+ x*int(i)\n",
        "\n",
        "res"
      ],
      "metadata": {
        "colab": {
          "base_uri": "https://localhost:8080/",
          "height": 36
        },
        "id": "WFtTHU39X-Il",
        "outputId": "3f1f4cf8-a329-4921-d533-2297d713c0e9"
      },
      "execution_count": 23,
      "outputs": [
        {
          "output_type": "execute_result",
          "data": {
            "text/plain": [
              "'aaaabbbccddea'"
            ],
            "application/vnd.google.colaboratory.intrinsic+json": {
              "type": "string"
            }
          },
          "metadata": {},
          "execution_count": 23
        }
      ]
    },
    {
      "cell_type": "code",
      "source": [
        "a=\"aaaabbbccddea\"\n",
        "res=''\n",
        "count=0\n",
        "for i in range(len(a)):\n",
        "  if i==0:\n",
        "    res=res+a[i]\n",
        "    count+=1\n",
        "  if i!=0 and a[i]==a[i-1]:\n",
        "    count+=1\n",
        "  if i!=0 and a[i]!=a[i-1]:\n",
        "    res=res+str(count)+a[i]\n",
        "    count=1\n",
        "  if i==len(a)-1:\n",
        "    res=res+str(count)\n",
        "\n",
        "\n",
        "res"
      ],
      "metadata": {
        "colab": {
          "base_uri": "https://localhost:8080/",
          "height": 36
        },
        "id": "ppZq2EjEZ7zH",
        "outputId": "546680fc-9a17-478c-ebb6-d37835bd61b7"
      },
      "execution_count": 21,
      "outputs": [
        {
          "output_type": "execute_result",
          "data": {
            "text/plain": [
              "'a4b3c2d2e1a1'"
            ],
            "application/vnd.google.colaboratory.intrinsic+json": {
              "type": "string"
            }
          },
          "metadata": {},
          "execution_count": 21
        }
      ]
    },
    {
      "cell_type": "code",
      "source": [
        "s='Hello world Practice makes perfect'\n",
        "s1=''\n",
        "for i in s:\n",
        "  if i.islower():\n",
        "    i1=i.upper()\n",
        "    s1=s1+''.join(i1)\n",
        "  else:\n",
        "    s1=s1+''.join(i)\n",
        "\n",
        "s1"
      ],
      "metadata": {
        "colab": {
          "base_uri": "https://localhost:8080/",
          "height": 36
        },
        "id": "w1OZSBQ5Pzjz",
        "outputId": "cb06b092-eb92-4803-e9d6-fa0ccc9937f1"
      },
      "execution_count": 9,
      "outputs": [
        {
          "output_type": "execute_result",
          "data": {
            "text/plain": [
              "'HELLO WORLD PRACTICE MAKES PERFECT'"
            ],
            "application/vnd.google.colaboratory.intrinsic+json": {
              "type": "string"
            }
          },
          "metadata": {},
          "execution_count": 9
        }
      ]
    },
    {
      "cell_type": "code",
      "source": [
        "l=[]\n",
        "\n",
        "\n",
        "for i in range(1000,2226):\n",
        "  s=str(i)\n",
        "  if(int(s[0])%2==0 and int(s[1])%2==0 and int(s[2])%2==0 and int(s[3])%2==0 ):\n",
        "    l.append(s)\n",
        "\n",
        "print(','.join(l))"
      ],
      "metadata": {
        "colab": {
          "base_uri": "https://localhost:8080/"
        },
        "id": "LOW5GkEETSZG",
        "outputId": "9bda7b1b-4823-4120-8ca1-b0456ff4b5b0"
      },
      "execution_count": 6,
      "outputs": [
        {
          "output_type": "stream",
          "name": "stdout",
          "text": [
            "2000,2002,2004,2006,2008,2020,2022,2024,2026,2028,2040,2042,2044,2046,2048,2060,2062,2064,2066,2068,2080,2082,2084,2086,2088,2200,2202,2204,2206,2208,2220,2222,2224\n"
          ]
        }
      ]
    }
  ]
}