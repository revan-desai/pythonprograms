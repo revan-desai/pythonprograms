{
  "nbformat": 4,
  "nbformat_minor": 0,
  "metadata": {
    "colab": {
      "provenance": [],
      "authorship_tag": "ABX9TyM/3E/dANiuYVjUbQy0BIzW",
      "include_colab_link": true
    },
    "kernelspec": {
      "name": "python3",
      "display_name": "Python 3"
    },
    "language_info": {
      "name": "python"
    }
  },
  "cells": [
    {
      "cell_type": "markdown",
      "metadata": {
        "id": "view-in-github",
        "colab_type": "text"
      },
      "source": [
        "<a href=\"https://colab.research.google.com/github/revan-desai/pythonprograms/blob/main/python_pyramid.ipynb\" target=\"_parent\"><img src=\"https://colab.research.google.com/assets/colab-badge.svg\" alt=\"Open In Colab\"/></a>"
      ]
    },
    {
      "cell_type": "code",
      "execution_count": 1,
      "metadata": {
        "colab": {
          "base_uri": "https://localhost:8080/"
        },
        "id": "UckKH9KfOSCP",
        "outputId": "c62ba8b3-cb88-424c-fb43-3ce020d92d31"
      },
      "outputs": [
        {
          "output_type": "stream",
          "name": "stdout",
          "text": [
            "p \n",
            "\n",
            "p y \n",
            "\n",
            "p y t \n",
            "\n",
            "p y t h \n",
            "\n",
            "p y t h o \n",
            "\n",
            "p y t h o n \n",
            "\n"
          ]
        }
      ],
      "source": [
        "s=\"python\"\n",
        "for i in range(len(s)):\n",
        "   for j in range(i+1):\n",
        "    print(s[j],end=\" \")\n",
        "   print(\"\\n\")"
      ]
    }
  ]
}