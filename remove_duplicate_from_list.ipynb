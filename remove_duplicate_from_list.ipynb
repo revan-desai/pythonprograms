{
  "nbformat": 4,
  "nbformat_minor": 0,
  "metadata": {
    "colab": {
      "provenance": [],
      "authorship_tag": "ABX9TyON1/V4QIDNgfS6OrlClOKF",
      "include_colab_link": true
    },
    "kernelspec": {
      "name": "python3",
      "display_name": "Python 3"
    },
    "language_info": {
      "name": "python"
    }
  },
  "cells": [
    {
      "cell_type": "markdown",
      "metadata": {
        "id": "view-in-github",
        "colab_type": "text"
      },
      "source": [
        "<a href=\"https://colab.research.google.com/github/revan-desai/pythonprograms/blob/main/remove_duplicate_from_list.ipynb\" target=\"_parent\"><img src=\"https://colab.research.google.com/assets/colab-badge.svg\" alt=\"Open In Colab\"/></a>"
      ]
    },
    {
      "cell_type": "code",
      "execution_count": 16,
      "metadata": {
        "colab": {
          "base_uri": "https://localhost:8080/"
        },
        "id": "3MiNDZ5kAAbY",
        "outputId": "a914efc0-45b5-43cf-8355-95860d1cf8ce"
      },
      "outputs": [
        {
          "output_type": "stream",
          "name": "stdout",
          "text": [
            "[1, 2, 3, 6, 7]\n"
          ]
        }
      ],
      "source": [
        "list=[1,2,3,3,3,6,7,6,7]\n",
        "\n",
        "list2=[]\n",
        "\n",
        "for i in range(len(list)):\n",
        "       if list[i] in list2:\n",
        "          continue\n",
        "       else:\n",
        "        list2.append(list[i])\n",
        "\n",
        "print(list2)"
      ]
    }
  ]
}