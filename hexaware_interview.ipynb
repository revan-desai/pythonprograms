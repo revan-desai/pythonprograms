{
  "nbformat": 4,
  "nbformat_minor": 0,
  "metadata": {
    "colab": {
      "provenance": [],
      "authorship_tag": "ABX9TyMtXteERXtbzfzjX2CdE7zt",
      "include_colab_link": true
    },
    "kernelspec": {
      "name": "python3",
      "display_name": "Python 3"
    },
    "language_info": {
      "name": "python"
    }
  },
  "cells": [
    {
      "cell_type": "markdown",
      "metadata": {
        "id": "view-in-github",
        "colab_type": "text"
      },
      "source": [
        "<a href=\"https://colab.research.google.com/github/revan-desai/pythonprograms/blob/main/hexaware_interview.ipynb\" target=\"_parent\"><img src=\"https://colab.research.google.com/assets/colab-badge.svg\" alt=\"Open In Colab\"/></a>"
      ]
    },
    {
      "cell_type": "code",
      "execution_count": null,
      "metadata": {
        "colab": {
          "base_uri": "https://localhost:8080/"
        },
        "id": "cdF97bsxoePz",
        "outputId": "9f093aba-3a00-49f3-b719-b8328ac94104"
      },
      "outputs": [
        {
          "output_type": "execute_result",
          "data": {
            "text/plain": [
              "['We', 'a', 'writing', 'blog']"
            ]
          },
          "metadata": {},
          "execution_count": 7
        }
      ],
      "source": [
        "List1= ['W', 'a', 'w','b']\n",
        "List2 = ['e', '','riting','log']\n",
        "\n",
        "list3=[]\n",
        "for i in range(len(List1)):\n",
        "\n",
        "   list3.append(List1[i]+List2[i])\n",
        "\n",
        "list3"
      ]
    },
    {
      "cell_type": "code",
      "source": [
        "List1 = ['W', 'a', 'w', 'b']\n",
        "List2 = ['e', '', 'riting', 'log']\n",
        "\n",
        "result = [item1 + item2 for item1, item2 in zip(List1, List2)]\n",
        "print(result)"
      ],
      "metadata": {
        "colab": {
          "base_uri": "https://localhost:8080/"
        },
        "id": "JGqmGWbfqA_c",
        "outputId": "1c482500-8258-4c73-8166-7e04b2409b22"
      },
      "execution_count": null,
      "outputs": [
        {
          "output_type": "stream",
          "name": "stdout",
          "text": [
            "['We', 'a', 'writing', 'blog']\n"
          ]
        }
      ]
    }
  ]
}