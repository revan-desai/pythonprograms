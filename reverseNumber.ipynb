{
  "nbformat": 4,
  "nbformat_minor": 0,
  "metadata": {
    "colab": {
      "provenance": [],
      "authorship_tag": "ABX9TyNd8WaozLgCvS3vXI7pYsei",
      "include_colab_link": true
    },
    "kernelspec": {
      "name": "python3",
      "display_name": "Python 3"
    },
    "language_info": {
      "name": "python"
    }
  },
  "cells": [
    {
      "cell_type": "markdown",
      "metadata": {
        "id": "view-in-github",
        "colab_type": "text"
      },
      "source": [
        "<a href=\"https://colab.research.google.com/github/revan-desai/pythonbasics/blob/main/reverseNumber.ipynb\" target=\"_parent\"><img src=\"https://colab.research.google.com/assets/colab-badge.svg\" alt=\"Open In Colab\"/></a>"
      ]
    },
    {
      "cell_type": "code",
      "execution_count": 4,
      "metadata": {
        "id": "HqydVY5TL-Yp",
        "colab": {
          "base_uri": "https://localhost:8080/"
        },
        "outputId": "40f373ac-a774-4c5e-cc83-e09f7ee8a92c"
      },
      "outputs": [
        {
          "output_type": "stream",
          "name": "stdout",
          "text": [
            "2266589\n"
          ]
        }
      ],
      "source": [
        "a=9856622\n",
        "rev=0\n",
        "while a>0:\n",
        "  b=a%10\n",
        "  rev=rev*10+b\n",
        "  a=a//10\n",
        "print(rev)\n",
        "\n"
      ]
    }
  ]
}