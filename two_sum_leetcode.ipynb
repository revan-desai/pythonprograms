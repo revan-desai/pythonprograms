{
  "nbformat": 4,
  "nbformat_minor": 0,
  "metadata": {
    "colab": {
      "provenance": [],
      "authorship_tag": "ABX9TyMtwbPw0kUAk5RkxQcvi5th",
      "include_colab_link": true
    },
    "kernelspec": {
      "name": "python3",
      "display_name": "Python 3"
    },
    "language_info": {
      "name": "python"
    }
  },
  "cells": [
    {
      "cell_type": "markdown",
      "metadata": {
        "id": "view-in-github",
        "colab_type": "text"
      },
      "source": [
        "<a href=\"https://colab.research.google.com/github/revan-desai/pythonprograms/blob/main/two_sum_leetcode.ipynb\" target=\"_parent\"><img src=\"https://colab.research.google.com/assets/colab-badge.svg\" alt=\"Open In Colab\"/></a>"
      ]
    },
    {
      "cell_type": "code",
      "execution_count": 35,
      "metadata": {
        "colab": {
          "base_uri": "https://localhost:8080/"
        },
        "id": "KZjcODssl0YS",
        "outputId": "814dbc65-5fe0-4705-cf67-29eb6ee9f176"
      },
      "outputs": [
        {
          "output_type": "execute_result",
          "data": {
            "text/plain": [
              "[8, 7, 8]"
            ]
          },
          "metadata": {},
          "execution_count": 35
        }
      ],
      "source": [
        "l1 = [2,8,9]\n",
        "l2 = [5,8,9]\n",
        "l3=[]\n",
        "res=0\n",
        "for i in range(len(l1)):\n",
        "   sum=l1[len(l1)-i-1]+l2[len(l1)-i-1]+res\n",
        "   if sum<=9:\n",
        "    l3.append(sum)\n",
        "   else:\n",
        "    l3.append(sum%10)\n",
        "    res=sum//10\n",
        "\n",
        "\n",
        "l3=l3[::-1]\n",
        "l3"
      ]
    },
    {
      "cell_type": "code",
      "source": [],
      "metadata": {
        "id": "OFB_O2Pdsyyl"
      },
      "execution_count": null,
      "outputs": []
    }
  ]
}