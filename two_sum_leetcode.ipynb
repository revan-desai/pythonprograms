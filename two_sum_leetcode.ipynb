{
  "nbformat": 4,
  "nbformat_minor": 0,
  "metadata": {
    "colab": {
      "provenance": [],
      "authorship_tag": "ABX9TyNdAodagJJUw3sB072LxlO3",
      "include_colab_link": true
    },
    "kernelspec": {
      "name": "python3",
      "display_name": "Python 3"
    },
    "language_info": {
      "name": "python"
    }
  },
  "cells": [
    {
      "cell_type": "markdown",
      "metadata": {
        "id": "view-in-github",
        "colab_type": "text"
      },
      "source": [
        "<a href=\"https://colab.research.google.com/github/revan-desai/pythonprograms/blob/main/two_sum_leetcode.ipynb\" target=\"_parent\"><img src=\"https://colab.research.google.com/assets/colab-badge.svg\" alt=\"Open In Colab\"/></a>"
      ]
    },
    {
      "cell_type": "code",
      "source": [
        "l=[2,5,58,56,4,6,9]\n",
        "\n",
        "for i in range(len(l)):\n",
        "  for j in range(i+1,len(l)):\n",
        "    if l[i]+l[j]==7:\n",
        "      print(l[i],l[j])\n",
        "\n"
      ],
      "metadata": {
        "colab": {
          "base_uri": "https://localhost:8080/"
        },
        "id": "ezJK3pp3xYJR",
        "outputId": "710d9e64-3af1-4f31-a499-f9964a6766d1"
      },
      "execution_count": 19,
      "outputs": [
        {
          "output_type": "stream",
          "name": "stdout",
          "text": [
            "2 5\n"
          ]
        }
      ]
    },
    {
      "cell_type": "code",
      "source": [
        "l1 = [2,5,8,5]\n",
        "l2 = [2,8,9,9]\n",
        "l3=[]\n",
        "for i in range(len(l1)):\n",
        "    sum=l1[len(l1)-1-i]+l2[len(l2)-1-i]+carry\n",
        "    if sum<=9:\n",
        "      l3.append(sum)\n",
        "      carry=0\n",
        "    else:\n",
        "      l3.append(sum%10)\n",
        "      carry=sum//10\n",
        "\n",
        "l3.reverse()\n",
        "l3"
      ],
      "metadata": {
        "colab": {
          "base_uri": "https://localhost:8080/"
        },
        "id": "xuPJG7ihzMJc",
        "outputId": "3e8aeb11-f2c1-4625-efb1-a8bfdcb80800"
      },
      "execution_count": 43,
      "outputs": [
        {
          "output_type": "execute_result",
          "data": {
            "text/plain": [
              "[5, 4, 8, 4]"
            ]
          },
          "metadata": {},
          "execution_count": 43
        }
      ]
    }
  ]
}