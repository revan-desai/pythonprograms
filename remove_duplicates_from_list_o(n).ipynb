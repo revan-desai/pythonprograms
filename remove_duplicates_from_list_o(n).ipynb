{
  "nbformat": 4,
  "nbformat_minor": 0,
  "metadata": {
    "colab": {
      "provenance": [],
      "authorship_tag": "ABX9TyP/AiePzRPVG7/Ih1YMKlB6",
      "include_colab_link": true
    },
    "kernelspec": {
      "name": "python3",
      "display_name": "Python 3"
    },
    "language_info": {
      "name": "python"
    }
  },
  "cells": [
    {
      "cell_type": "markdown",
      "metadata": {
        "id": "view-in-github",
        "colab_type": "text"
      },
      "source": [
        "<a href=\"https://colab.research.google.com/github/revan-desai/pythonprograms/blob/main/remove_duplicates_from_list_o(n).ipynb\" target=\"_parent\"><img src=\"https://colab.research.google.com/assets/colab-badge.svg\" alt=\"Open In Colab\"/></a>"
      ]
    },
    {
      "cell_type": "code",
      "source": [
        "list1 = [5, 5, 5, 6, 2, 3, 4, 85, 4, 6]\n",
        "\n",
        "res=[]\n",
        "\n",
        "[res.append(x) for x in list1 if x not in res]\n",
        "\n",
        "print(res)"
      ],
      "metadata": {
        "colab": {
          "base_uri": "https://localhost:8080/"
        },
        "id": "pUfqAOAIGKRo",
        "outputId": "b53b24d9-f0b7-4e79-f855-696cea03e283"
      },
      "execution_count": 41,
      "outputs": [
        {
          "output_type": "stream",
          "name": "stdout",
          "text": [
            "[5, 6, 2, 3, 4, 85]\n"
          ]
        }
      ]
    }
  ]
}